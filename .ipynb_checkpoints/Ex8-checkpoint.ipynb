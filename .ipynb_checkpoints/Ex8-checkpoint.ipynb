{
 "cells": [
  {
   "cell_type": "markdown",
   "id": "d73dca40",
   "metadata": {},
   "source": [
    "# Coding Set 8"
   ]
  },
  {
   "cell_type": "markdown",
   "id": "7809ed25",
   "metadata": {},
   "source": [
    "## Algorithm Workbench - Problems 2 and 8\n",
    "\n",
    "Problem 2"
   ]
  },
  {
   "cell_type": "markdown",
   "id": "3d5ee7c8",
   "metadata": {},
   "source": [
    "This problem asks me to write a loop that counts the number of space characters that appear in the string referenced by mystring."
   ]
  },
  {
   "cell_type": "code",
   "execution_count": 1,
   "id": "06981fa1",
   "metadata": {},
   "outputs": [
    {
     "name": "stdout",
     "output_type": "stream",
     "text": [
      "There were a total of 8 spaces in the string.\n"
     ]
    }
   ],
   "source": [
    "def main():\n",
    "    \n",
    "    #Here I am creating a variable that will hold the count, it must start with 0\n",
    "    count = 0\n",
    "    \n",
    "    #Setting the variable mystring equal to a string\n",
    "    mystring = 'I went to the park yesterday with my friends.'\n",
    "    \n",
    "    #I am telling the code here to count the number of spaces in my sentence\n",
    "    for ch in mystring:\n",
    "        if ch == ' ':\n",
    "            count += 1\n",
    "            \n",
    "            \n",
    "    #Printing the number of spaces that are counted\n",
    "    print(f'There were a total of {count} spaces in the string.')\n",
    "    \n",
    "    \n",
    "#Call the main function\n",
    "if __name__ == '__main__':\n",
    "    main()"
   ]
  },
  {
   "cell_type": "markdown",
   "id": "1ddc0b43",
   "metadata": {},
   "source": [
    "The code ran smoothly after having to change some formatting around."
   ]
  },
  {
   "cell_type": "markdown",
   "id": "fdca8ca7",
   "metadata": {},
   "source": [
    "Problem 8\n",
    "\n",
    "This problem asks me to assume mystring refrences a string and to write a statement that uses a slicing expression that displays the first 3 characters in the string."
   ]
  },
  {
   "cell_type": "code",
   "execution_count": 2,
   "id": "0c21c581",
   "metadata": {},
   "outputs": [
    {
     "name": "stdout",
     "output_type": "stream",
     "text": [
      "A25\n"
     ]
    }
   ],
   "source": [
    "def main():\n",
    "    \n",
    "    #Setting the variable my string equal to a string of a series of letters and numbers\n",
    "    mystring = 'A25J98K'\n",
    "    \n",
    "    #printing only the first 3 letters using the slicing method\n",
    "    print(mystring[0:3])\n",
    "    \n",
    "if __name__ == '__main__':\n",
    "    main()"
   ]
  },
  {
   "cell_type": "markdown",
   "id": "2563f5d8",
   "metadata": {},
   "source": [
    "The code worked as expected and only the first 3 letters of the string printed."
   ]
  },
  {
   "cell_type": "markdown",
   "id": "455fecc4",
   "metadata": {},
   "source": [
    "## Programming Exercises - Problems 1, \n",
    "\n",
    "Problem 1"
   ]
  },
  {
   "cell_type": "markdown",
   "id": "86b3ae22",
   "metadata": {},
   "source": [
    "This problem asks me to write a program that gets a string containing a person's first, middle, and last name and displayes the first, middle, and last initals."
   ]
  },
  {
   "cell_type": "code",
   "execution_count": 12,
   "id": "e1b05842",
   "metadata": {},
   "outputs": [
    {
     "name": "stdout",
     "output_type": "stream",
     "text": [
      "Enter your first name: Kendal\n",
      "Enter your middle name: Ann\n",
      "Enter your last name: Inman\n",
      "The initials are:\n",
      "K.A.I.\n"
     ]
    }
   ],
   "source": [
    "def get_name(first, middle, last):\n",
    "    \n",
    "    #Prompting the code to get the first inital of the first, middle, and last name\n",
    "    set1 = first[0]\n",
    "    \n",
    "    set2 = middle[0]\n",
    "    \n",
    "    set3 = last[0]\n",
    "    \n",
    "    #Putting the sets of characters together\n",
    "    initals = set1 + '.' + set2 + '.' + set3 + '.'\n",
    "    \n",
    "    return initals\n",
    "    \n",
    "\n",
    "def main():\n",
    "    \n",
    "    #Get the users first, middle, and last name\n",
    "    first = input('Enter your first name: ')\n",
    "    middle = input('Enter your middle name: ')\n",
    "    last = input('Enter your last name: ')\n",
    "    \n",
    "    #get the first, middle, and last initals\n",
    "    print('The initials are:')\n",
    "    print(get_name(first, middle, last))\n",
    "    \n",
    "#call the main function\n",
    "if __name__ == '__main__':\n",
    "    main()"
   ]
  },
  {
   "cell_type": "markdown",
   "id": "3605cffd",
   "metadata": {},
   "source": [
    "After some changes I got the coe to run as expected and my initials printed properly."
   ]
  },
  {
   "cell_type": "markdown",
   "id": "767c060e",
   "metadata": {},
   "source": [
    "Problem 2\n",
    "\n",
    "This problem asks me to write a program that asks the user to enter a series of single-digit numbers with nothing separating them. The program should display the sum of all the single digit numbers in the string."
   ]
  },
  {
   "cell_type": "code",
   "execution_count": 16,
   "id": "cf001e59",
   "metadata": {},
   "outputs": [],
   "source": [
    "def calculate_sum(digits):\n",
    "    total = 0\n",
    "    num_digits = [0]\n",
    "    digits = [0] * num_digits\n",
    "    \n",
    "    for num in digits:\n",
    "        total = sum(num)\n",
    "    return total\n",
    "\n",
    "def main():\n",
    "    series = int(input('Enter a series of single digit numbers: '))\n",
    "    \n",
    "    sum_of_digits = calculate_sum(series)\n",
    "    \n",
    "    print(f'The sum of the single-digit numbers is {sum_of_digits}.')"
   ]
  },
  {
   "cell_type": "code",
   "execution_count": null,
   "id": "d7477deb",
   "metadata": {},
   "outputs": [],
   "source": []
  }
 ],
 "metadata": {
  "kernelspec": {
   "display_name": "Python 3 (ipykernel)",
   "language": "python",
   "name": "python3"
  },
  "language_info": {
   "codemirror_mode": {
    "name": "ipython",
    "version": 3
   },
   "file_extension": ".py",
   "mimetype": "text/x-python",
   "name": "python",
   "nbconvert_exporter": "python",
   "pygments_lexer": "ipython3",
   "version": "3.10.9"
  }
 },
 "nbformat": 4,
 "nbformat_minor": 5
}
