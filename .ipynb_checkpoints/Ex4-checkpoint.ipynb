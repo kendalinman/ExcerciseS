{
 "cells": [
  {
   "cell_type": "markdown",
   "id": "b346c4f7",
   "metadata": {},
   "source": [
    "# Chapter 4 Excercises"
   ]
  },
  {
   "cell_type": "markdown",
   "id": "16533674",
   "metadata": {},
   "source": [
    "## Algorithm Workbench - Problems 1\n",
    "\n",
    "Problem 1"
   ]
  },
  {
   "cell_type": "markdown",
   "id": "4962dbcb",
   "metadata": {},
   "source": [
    "This problem asks me to write a while loop that asks the use for a number and the number should then be multiplied by 10 and assigned to the variable product. The loop should iterate as long as the product is less than 100."
   ]
  },
  {
   "cell_type": "code",
   "execution_count": 2,
   "id": "e5a4e783",
   "metadata": {},
   "outputs": [
    {
     "name": "stdout",
     "output_type": "stream",
     "text": [
      "Please enter a number: 5\n",
      "50.0\n",
      "Please enter a number: 9\n",
      "90.0\n",
      "Please enter a number: 12\n"
     ]
    }
   ],
   "source": [
    "number = float(input('Please enter a number: ')) #This step will allow the user to input a number\n",
    "product = number * 10 #I am first setting the variable product to the number inputted times 10 because the problem gave me this\n",
    "\n",
    "while product < 100: #Here I am beginning my while loop, making sure to specify that product has to be less than 100\n",
    "    print(product) #If product < 10, I want the product to be printed\n",
    "    number = float(input('Please enter a number: ')) #Inputting the number and product again here will continue the loop\n",
    "    product = number * 10\n"
   ]
  },
  {
   "cell_type": "markdown",
   "id": "67f1ffb1",
   "metadata": {},
   "source": [
    "In order to create the loop, I had to state what number and product were before and after I used while, after this I can continue to enter numbers that multiplied by 10 will be less than 100 until I use a number that is too large."
   ]
  },
  {
   "cell_type": "code",
   "execution_count": null,
   "id": "fe288504",
   "metadata": {},
   "outputs": [],
   "source": []
  }
 ],
 "metadata": {
  "kernelspec": {
   "display_name": "Python 3 (ipykernel)",
   "language": "python",
   "name": "python3"
  },
  "language_info": {
   "codemirror_mode": {
    "name": "ipython",
    "version": 3
   },
   "file_extension": ".py",
   "mimetype": "text/x-python",
   "name": "python",
   "nbconvert_exporter": "python",
   "pygments_lexer": "ipython3",
   "version": "3.10.9"
  }
 },
 "nbformat": 4,
 "nbformat_minor": 5
}
