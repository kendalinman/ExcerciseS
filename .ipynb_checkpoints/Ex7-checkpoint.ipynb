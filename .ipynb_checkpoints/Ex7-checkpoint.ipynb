{
 "cells": [
  {
   "cell_type": "markdown",
   "id": "2d155a94",
   "metadata": {},
   "source": [
    "# Coding Set 7"
   ]
  },
  {
   "cell_type": "markdown",
   "id": "9c3ef126",
   "metadata": {},
   "source": [
    "## Algorithm Workbench - Problems 1 and 7\n",
    "\n",
    "Problem 1"
   ]
  },
  {
   "cell_type": "markdown",
   "id": "f012e27d",
   "metadata": {},
   "source": [
    "This problem asks me to write a statement that creates a list with 4 strings that they give me."
   ]
  },
  {
   "cell_type": "code",
   "execution_count": 3,
   "id": "2eacdeba",
   "metadata": {},
   "outputs": [
    {
     "name": "stdout",
     "output_type": "stream",
     "text": [
      "['Einstein', 'Newton', 'Copernicus', 'Kepler']\n"
     ]
    }
   ],
   "source": [
    "#I am starting by creating a list tied to the word string that includes all 4 of the names the code gave me\n",
    "strings = ['Einstein', 'Newton', 'Copernicus', 'Kepler']\n",
    "\n",
    "#I am now going to try to print the string\n",
    "print(strings)\n"
   ]
  },
  {
   "cell_type": "markdown",
   "id": "7d300f08",
   "metadata": {},
   "source": [
    "I got the list to print the strings after adding the ' ' signs around each word."
   ]
  },
  {
   "cell_type": "markdown",
   "id": "f815868f",
   "metadata": {},
   "source": [
    "Problem 7\n",
    "\n",
    "This problem asks me what the following code will print \n",
    "\n",
    "list1 = [40, 50, 60]  \n",
    "\n",
    "list2 = [10, 20, 30]  \n",
    "\n",
    "list3 = list1 + list2  \n",
    "\n",
    "print(list3)"
   ]
  },
  {
   "cell_type": "markdown",
   "id": "caa3cc17",
   "metadata": {},
   "source": [
    "After reading the book and my knowledge about lists, since we are adding list one and list two and list one is the first list in the addition problem, I think list three will print as follows.\n",
    "\n",
    "[40, 50, 60, 10, 20, 30]"
   ]
  },
  {
   "cell_type": "markdown",
   "id": "de5fda84",
   "metadata": {},
   "source": [
    "I am now going to run the code to see if the way I assumed the list would print is correct."
   ]
  },
  {
   "cell_type": "code",
   "execution_count": 9,
   "id": "23af9656",
   "metadata": {},
   "outputs": [
    {
     "name": "stdout",
     "output_type": "stream",
     "text": [
      "[40, 50, 60, 10, 20, 30]\n"
     ]
    }
   ],
   "source": [
    "list1 = [40, 50, 60]\n",
    "list2 = [10, 20, 30]\n",
    "list3 = list1 + list2\n",
    "print(list3)"
   ]
  },
  {
   "cell_type": "markdown",
   "id": "b83940f3",
   "metadata": {},
   "source": [
    "The code printed as I expected it to!"
   ]
  },
  {
   "cell_type": "markdown",
   "id": "b11214cb",
   "metadata": {},
   "source": [
    "## Programming Exercises - Problems 1, 14,\n",
    "\n",
    "Problem 1"
   ]
  },
  {
   "cell_type": "markdown",
   "id": "d2ad616d",
   "metadata": {},
   "source": [
    "This problem asks me to desgin a program that asks the suer to enter a store's sales for each day of the week. The amounts should be stored in a list. Use a loop to calculate the total sales for the week and display the result."
   ]
  },
  {
   "cell_type": "code",
   "execution_count": 5,
   "id": "827b4116",
   "metadata": {},
   "outputs": [
    {
     "name": "stdout",
     "output_type": "stream",
     "text": [
      "Stores sales on day 1: 8\n",
      "Stores sales on day 2: 12\n",
      "Stores sales on day 3: 4\n",
      "Stores sales on day 4: 7\n",
      "Stores sales on day 5: 13\n",
      "Stores sales on day 6: 9\n",
      "Stores sales on day 7: 2\n",
      "The total sales for the week were: 55.0.\n"
     ]
    }
   ],
   "source": [
    "#I am first setting num_days as a constant for the size of the list which is 7 in this case because 7 days in a week\n",
    "num_days = 7\n",
    "\n",
    "def main():\n",
    "    \n",
    "#Here I am creating my list that will hold the sales of each days, multiplying it by num_days so it knows how high to go\n",
    "    sales = [0] * num_days\n",
    "    \n",
    "#I am now getting the sales the store had on each day using the input function so I can enter numbers\n",
    "    for index in range(num_days):\n",
    "        sales[index] = float(input(f'Stores sales on day {index + 1}: '))\n",
    "                      \n",
    "#Here I am using the sum function to set total_sales to the sum of all of the sales I enter combined\n",
    "    total_sales = sum(sales)\n",
    "                         \n",
    "#Here I am printing a prompt for my total sales to enter once the code calculates them\n",
    "    print(f'The total sales for the week were: {total_sales}.')\n",
    "                 \n",
    "#Calling the main function\n",
    "if __name__ == '__main__':\n",
    "    main()\n",
    "                                   "
   ]
  },
  {
   "cell_type": "markdown",
   "id": "405ede32",
   "metadata": {},
   "source": [
    "I got the code to succesfully run after making lots of changes and looking back at the book for help when needed."
   ]
  },
  {
   "cell_type": "markdown",
   "id": "3305910a",
   "metadata": {},
   "source": [
    "Problem 14"
   ]
  },
  {
   "cell_type": "markdown",
   "id": "b9e06520",
   "metadata": {},
   "source": [
    "This problem asks me to create a text file that contains my expenses for last month in a series of categories and then reads the data from the file using matplotlib to plot a pie chart showing my expenses."
   ]
  },
  {
   "cell_type": "code",
   "execution_count": 1,
   "id": "d033f7c7",
   "metadata": {},
   "outputs": [
    {
     "ename": "SyntaxError",
     "evalue": "incomplete input (932598716.py, line 4)",
     "output_type": "error",
     "traceback": [
      "\u001b[0;36m  Cell \u001b[0;32mIn[1], line 4\u001b[0;36m\u001b[0m\n\u001b[0;31m    \u001b[0m\n\u001b[0m    ^\u001b[0m\n\u001b[0;31mSyntaxError\u001b[0m\u001b[0;31m:\u001b[0m incomplete input\n"
     ]
    }
   ],
   "source": [
    "import matplotlib.pyplot as plt\n",
    "\n",
    "def main():\n",
    "    "
   ]
  },
  {
   "cell_type": "code",
   "execution_count": 3,
   "id": "7a4366c4",
   "metadata": {},
   "outputs": [
    {
     "name": "stdout",
     "output_type": "stream",
     "text": [
      "Invalid file format. Please check the file contents.\n"
     ]
    },
    {
     "data": {
      "image/png": "[encoded data removed]",
      "text/plain": [
       "<Figure size 640x480 with 1 Axes>"
      ]
     },
     "metadata": {},
     "output_type": "display_data"
    }
   ],
   "source": [
    "import matplotlib.pyplot as plt\n",
    "\n",
    "def read_expenses_from_file(file_path):\n",
    "    expenses = {}\n",
    "    try:\n",
    "        with open(file_path, 'r') as file:\n",
    "            for line in file:\n",
    "                category, amount = line.strip().split()\n",
    "                expenses[category] = float(amount)\n",
    "    except FileNotFoundError:\n",
    "        print(\"File not found. Please make sure the file exists.\")\n",
    "    except ValueError:\n",
    "        print(\"Invalid file format. Please check the file contents.\")\n",
    "    return expenses\n",
    "\n",
    "def plot_expense_breakdown(expenses):\n",
    "    labels = list(expenses.keys())\n",
    "    amounts = list(expenses.values())\n",
    "\n",
    "    plt.pie(amounts, labels=labels, autopct='%1.1f%%')\n",
    "    plt.title('Expense Breakdown')\n",
    "    plt.axis('equal')\n",
    "    plt.show()\n",
    "\n",
    "def main():\n",
    "    file_path = 'expenses.txt'\n",
    "    expenses = read_expenses_from_file(file_path)\n",
    "    if expenses:\n",
    "        plot_expense_breakdown(expenses)\n",
    "\n",
    "if __name__ == '__main__':\n",
    "    main()\n"
   ]
  },
  {
   "cell_type": "code",
   "execution_count": null,
   "id": "64bbb7a6",
   "metadata": {},
   "outputs": [],
   "source": []
  },
  {
   "cell_type": "code",
   "execution_count": null,
   "id": "59cf7f9d",
   "metadata": {},
   "outputs": [],
   "source": []
  }
 ],
 "metadata": {
  "kernelspec": {
   "display_name": "Python 3 (ipykernel)",
   "language": "python",
   "name": "python3"
  },
  "language_info": {
   "codemirror_mode": {
    "name": "ipython",
    "version": 3
   },
   "file_extension": ".py",
   "mimetype": "text/x-python",
   "name": "python",
   "nbconvert_exporter": "python",
   "pygments_lexer": "ipython3",
   "version": "3.10.9"
  }
 },
 "nbformat": 4,
 "nbformat_minor": 5
}
