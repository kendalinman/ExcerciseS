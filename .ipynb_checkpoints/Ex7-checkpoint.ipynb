{
 "cells": [
  {
   "cell_type": "markdown",
   "id": "16488c73",
   "metadata": {},
   "source": [
    "# Coding Set 7"
   ]
  },
  {
   "cell_type": "markdown",
   "id": "c65d58a3",
   "metadata": {},
   "source": [
    "## Algorithm Workbench - Problems 1 and 7\n",
    "\n",
    "Problem 1"
   ]
  },
  {
   "cell_type": "markdown",
   "id": "de6609eb",
   "metadata": {},
   "source": [
    "This problem asks me to write a statement that creates a list with 4 strings that they give me."
   ]
  },
  {
   "cell_type": "code",
   "execution_count": 3,
   "id": "60d89838",
   "metadata": {},
   "outputs": [
    {
     "name": "stdout",
     "output_type": "stream",
     "text": [
      "['Einstein', 'Newton', 'Copernicus', 'Kepler']\n"
     ]
    }
   ],
   "source": [
    "#I am starting by creating a list tied to the word string that includes all 4 of the names the code gave me\n",
    "strings = ['Einstein', 'Newton', 'Copernicus', 'Kepler']\n",
    "\n",
    "#I am now going to try to print the string\n",
    "print(strings)\n"
   ]
  },
  {
   "cell_type": "markdown",
   "id": "6e4618b6",
   "metadata": {},
   "source": [
    "I got the list to print the strings after adding the ' ' signs around each word."
   ]
  },
  {
   "cell_type": "markdown",
   "id": "34fbf848",
   "metadata": {},
   "source": [
    "Problem 7\n",
    "\n",
    "This problem asks me what the following code will print \n",
    "\n",
    "list1 = [40, 50, 60]  \n",
    "\n",
    "list2 = [10, 20, 30]  \n",
    "\n",
    "list3 = list1 + list2  \n",
    "\n",
    "print(list3)"
   ]
  },
  {
   "cell_type": "markdown",
   "id": "cb1c74ba",
   "metadata": {},
   "source": [
    "After reading the book and my knowledge about lists, since we are adding list one and list two and list one is the first list in the addition problem, I think list three will print as follows.\n",
    "\n",
    "[40, 50, 60, 10, 20, 30]"
   ]
  },
  {
   "cell_type": "markdown",
   "id": "1dedb6f1",
   "metadata": {},
   "source": [
    "I am now going to run the code to see if the way I assumed the list would print is correct."
   ]
  },
  {
   "cell_type": "code",
   "execution_count": 9,
   "id": "6d811926",
   "metadata": {},
   "outputs": [
    {
     "name": "stdout",
     "output_type": "stream",
     "text": [
      "[40, 50, 60, 10, 20, 30]\n"
     ]
    }
   ],
   "source": [
    "list1 = [40, 50, 60]\n",
    "list2 = [10, 20, 30]\n",
    "list3 = list1 + list2\n",
    "print(list3)"
   ]
  },
  {
   "cell_type": "markdown",
   "id": "e1fc2735",
   "metadata": {},
   "source": [
    "The code printed as I expected it to!"
   ]
  },
  {
   "cell_type": "markdown",
   "id": "5e52a928",
   "metadata": {},
   "source": [
    "## Programming Exercises"
   ]
  }
 ],
 "metadata": {
  "kernelspec": {
   "display_name": "Python 3 (ipykernel)",
   "language": "python",
   "name": "python3"
  },
  "language_info": {
   "codemirror_mode": {
    "name": "ipython",
    "version": 3
   },
   "file_extension": ".py",
   "mimetype": "text/x-python",
   "name": "python",
   "nbconvert_exporter": "python",
   "pygments_lexer": "ipython3",
   "version": "3.10.9"
  }
 },
 "nbformat": 4,
 "nbformat_minor": 5
}
