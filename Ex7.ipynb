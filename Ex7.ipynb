{
 "cells": [
  {
   "cell_type": "markdown",
   "id": "3976b900",
   "metadata": {},
   "source": [
    "# Coding Set 7"
   ]
  },
  {
   "cell_type": "markdown",
   "id": "1392bb94",
   "metadata": {},
   "source": [
    "## Algorithm Workbench - Problems 1 and\n",
    "\n",
    "Problem 1"
   ]
  },
  {
   "cell_type": "markdown",
   "id": "c054c48c",
   "metadata": {},
   "source": [
    "This problem asks me to write a statement that creates a list with 4 strings that they give me."
   ]
  },
  {
   "cell_type": "code",
   "execution_count": 1,
   "id": "3dab916a",
   "metadata": {},
   "outputs": [
    {
     "ename": "NameError",
     "evalue": "name 'Einstein' is not defined",
     "output_type": "error",
     "traceback": [
      "\u001b[0;31m---------------------------------------------------------------------------\u001b[0m",
      "\u001b[0;31mNameError\u001b[0m                                 Traceback (most recent call last)",
      "Cell \u001b[0;32mIn[1], line 2\u001b[0m\n\u001b[1;32m      1\u001b[0m \u001b[38;5;66;03m#I am starting by creating a list tied to the word string that includes all 4 of the names the code gave me\u001b[39;00m\n\u001b[0;32m----> 2\u001b[0m strings \u001b[38;5;241m=\u001b[39m [\u001b[43mEinstein\u001b[49m, Newton, Copernicus, Kepler]\n\u001b[1;32m      4\u001b[0m \u001b[38;5;66;03m#I am now going to try to print the string\u001b[39;00m\n\u001b[1;32m      5\u001b[0m \u001b[38;5;28mprint\u001b[39m(strings)\n",
      "\u001b[0;31mNameError\u001b[0m: name 'Einstein' is not defined"
     ]
    }
   ],
   "source": [
    "#I am starting by creating a list tied to the word string that includes all 4 of the names the code gave me\n",
    "strings = ['Einstein', Newton, Copernicus, Kepler]\n",
    "\n",
    "#I am now going to try to print the string\n",
    "print(strings)\n"
   ]
  },
  {
   "cell_type": "code",
   "execution_count": null,
   "id": "7800a92d",
   "metadata": {},
   "outputs": [],
   "source": []
  }
 ],
 "metadata": {
  "kernelspec": {
   "display_name": "Python 3 (ipykernel)",
   "language": "python",
   "name": "python3"
  },
  "language_info": {
   "codemirror_mode": {
    "name": "ipython",
    "version": 3
   },
   "file_extension": ".py",
   "mimetype": "text/x-python",
   "name": "python",
   "nbconvert_exporter": "python",
   "pygments_lexer": "ipython3",
   "version": "3.10.9"
  }
 },
 "nbformat": 4,
 "nbformat_minor": 5
}
