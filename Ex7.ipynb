{
 "cells": [
  {
   "cell_type": "markdown",
   "id": "709a92ac",
   "metadata": {},
   "source": [
    "# Coding Set 7"
   ]
  },
  {
   "cell_type": "markdown",
   "id": "9cf0ecd5",
   "metadata": {},
   "source": [
    "## Algorithm Workbench - Problems 1 and 7\n",
    "\n",
    "Problem 1"
   ]
  },
  {
   "cell_type": "markdown",
   "id": "230e01ba",
   "metadata": {},
   "source": [
    "This problem asks me to write a statement that creates a list with 4 strings that they give me."
   ]
  },
  {
   "cell_type": "code",
   "execution_count": 3,
   "id": "e5f63fe5",
   "metadata": {},
   "outputs": [
    {
     "name": "stdout",
     "output_type": "stream",
     "text": [
      "['Einstein', 'Newton', 'Copernicus', 'Kepler']\n"
     ]
    }
   ],
   "source": [
    "#I am starting by creating a list tied to the word string that includes all 4 of the names the code gave me\n",
    "strings = ['Einstein', 'Newton', 'Copernicus', 'Kepler']\n",
    "\n",
    "#I am now going to try to print the string\n",
    "print(strings)\n"
   ]
  },
  {
   "cell_type": "markdown",
   "id": "bc7b0660",
   "metadata": {},
   "source": [
    "I got the list to print the strings after adding the ' ' signs around each word."
   ]
  },
  {
   "cell_type": "markdown",
   "id": "b5d67ee8",
   "metadata": {},
   "source": [
    "Problem 7\n",
    "\n",
    "This problem asks me what the following code will print \n",
    "\n",
    "list1 = [40, 50, 60]  \n",
    "\n",
    "list2 = [10, 20, 30]  \n",
    "\n",
    "list3 = list1 + list2  \n",
    "\n",
    "print(list3)"
   ]
  },
  {
   "cell_type": "markdown",
   "id": "82912acf",
   "metadata": {},
   "source": [
    "After reading the book and my knowledge about lists, since we are adding list one and list two and list one is the first list in the addition problem, I think list three will print as follows.\n",
    "\n",
    "[40, 50, 60, 10, 20, 30]"
   ]
  },
  {
   "cell_type": "markdown",
   "id": "2ac2dacf",
   "metadata": {},
   "source": [
    "I am now going to run the code to see if the way I assumed the list would print is correct."
   ]
  },
  {
   "cell_type": "code",
   "execution_count": 9,
   "id": "3cc4104b",
   "metadata": {},
   "outputs": [
    {
     "name": "stdout",
     "output_type": "stream",
     "text": [
      "[40, 50, 60, 10, 20, 30]\n"
     ]
    }
   ],
   "source": [
    "list1 = [40, 50, 60]\n",
    "list2 = [10, 20, 30]\n",
    "list3 = list1 + list2\n",
    "print(list3)"
   ]
  },
  {
   "cell_type": "markdown",
   "id": "68739718",
   "metadata": {},
   "source": [
    "The code printed as I expected it to!"
   ]
  },
  {
   "cell_type": "markdown",
   "id": "37289d95",
   "metadata": {},
   "source": [
    "## Programming Exercises - Problems 1, 14,\n",
    "\n",
    "Problem 1"
   ]
  },
  {
   "cell_type": "markdown",
   "id": "67505237",
   "metadata": {},
   "source": [
    "This problem asks me to desgin a program that asks the suer to enter a store's sales for each day of the week. The amounts should be stored in a list. Use a loop to calculate the total sales for the week and display the result."
   ]
  },
  {
   "cell_type": "code",
   "execution_count": null,
   "id": "0340e043",
   "metadata": {},
   "outputs": [],
   "source": [
    "#I am first setting num_days as a constant for the size of the list which is 7 in this case because 7 days in a week\n",
    "num_days = 7\n",
    "\n",
    "def main():\n",
    "    sales = [0] * num_days\n",
    "    \n",
    "    for index in range(num_days):\n",
    "        sales[index] = int(input)"
   ]
  }
 ],
 "metadata": {
  "kernelspec": {
   "display_name": "Python 3 (ipykernel)",
   "language": "python",
   "name": "python3"
  },
  "language_info": {
   "codemirror_mode": {
    "name": "ipython",
    "version": 3
   },
   "file_extension": ".py",
   "mimetype": "text/x-python",
   "name": "python",
   "nbconvert_exporter": "python",
   "pygments_lexer": "ipython3",
   "version": "3.10.9"
  }
 },
 "nbformat": 4,
 "nbformat_minor": 5
}
