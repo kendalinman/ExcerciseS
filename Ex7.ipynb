{
 "cells": [
  {
   "cell_type": "markdown",
   "id": "8556b026",
   "metadata": {},
   "source": [
    "# Coding Set 7"
   ]
  },
  {
   "cell_type": "markdown",
   "id": "69639c1b",
   "metadata": {},
   "source": [
    "## Algorithm Workbench - Problems 1 and 7\n",
    "\n",
    "Problem 1"
   ]
  },
  {
   "cell_type": "markdown",
   "id": "97007cd3",
   "metadata": {},
   "source": [
    "This problem asks me to write a statement that creates a list with 4 strings that they give me."
   ]
  },
  {
   "cell_type": "code",
   "execution_count": 3,
   "id": "dfa8907b",
   "metadata": {},
   "outputs": [
    {
     "name": "stdout",
     "output_type": "stream",
     "text": [
      "['Einstein', 'Newton', 'Copernicus', 'Kepler']\n"
     ]
    }
   ],
   "source": [
    "#I am starting by creating a list tied to the word string that includes all 4 of the names the code gave me\n",
    "strings = ['Einstein', 'Newton', 'Copernicus', 'Kepler']\n",
    "\n",
    "#I am now going to try to print the string\n",
    "print(strings)\n"
   ]
  },
  {
   "cell_type": "markdown",
   "id": "a653f618",
   "metadata": {},
   "source": [
    "I got the list to print the strings after adding the ' ' signs around each word."
   ]
  },
  {
   "cell_type": "markdown",
   "id": "0a761b90",
   "metadata": {},
   "source": [
    "Problem 7\n",
    "\n",
    "This problem asks me what the following code will print \n",
    "\n",
    "list1 = [40, 50, 60]  \n",
    "\n",
    "list2 = [10, 20, 30]  \n",
    "\n",
    "list3 = list1 + list2  \n",
    "\n",
    "print(list3)"
   ]
  },
  {
   "cell_type": "markdown",
   "id": "aa8dca71",
   "metadata": {},
   "source": [
    "After reading the book and my knowledge about lists, since we are adding list one and list two and list one is the first list in the addition problem, I think list three will print as follows.\n",
    "\n",
    "[40, 50, 60, 10, 20, 30]"
   ]
  },
  {
   "cell_type": "markdown",
   "id": "0ed79285",
   "metadata": {},
   "source": [
    "I am now going to run the code to see if the way I assumed the list would print is correct."
   ]
  },
  {
   "cell_type": "code",
   "execution_count": 7,
   "id": "04162bb3",
   "metadata": {},
   "outputs": [
    {
     "ename": "SyntaxError",
     "evalue": "invalid non-printable character U+00A0 (643758480.py, line 1)",
     "output_type": "error",
     "traceback": [
      "\u001b[0;36m  Cell \u001b[0;32mIn[7], line 1\u001b[0;36m\u001b[0m\n\u001b[0;31m    listone = [40, 50, 60]\u001b[0m\n\u001b[0m           ^\u001b[0m\n\u001b[0;31mSyntaxError\u001b[0m\u001b[0;31m:\u001b[0m invalid non-printable character U+00A0\n"
     ]
    }
   ],
   "source": [
    "listone = [40, 50, 60]  \n",
    "listtwo = [10, 20, 30]  \n",
    "listthree = listone + listtwo  \n",
    "print(listthree)"
   ]
  },
  {
   "cell_type": "code",
   "execution_count": null,
   "id": "6d700b61",
   "metadata": {},
   "outputs": [],
   "source": []
  },
  {
   "cell_type": "code",
   "execution_count": null,
   "id": "5575b9c4",
   "metadata": {},
   "outputs": [],
   "source": []
  }
 ],
 "metadata": {
  "kernelspec": {
   "display_name": "Python 3 (ipykernel)",
   "language": "python",
   "name": "python3"
  },
  "language_info": {
   "codemirror_mode": {
    "name": "ipython",
    "version": 3
   },
   "file_extension": ".py",
   "mimetype": "text/x-python",
   "name": "python",
   "nbconvert_exporter": "python",
   "pygments_lexer": "ipython3",
   "version": "3.10.9"
  }
 },
 "nbformat": 4,
 "nbformat_minor": 5
}
