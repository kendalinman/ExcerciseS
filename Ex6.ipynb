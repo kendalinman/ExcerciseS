{
 "cells": [
  {
   "cell_type": "markdown",
   "id": "f0f358ff",
   "metadata": {},
   "source": [
    "# Chapter 6 Coding Set"
   ]
  },
  {
   "cell_type": "markdown",
   "id": "16c21278",
   "metadata": {},
   "source": [
    "## Algorithm Workbench problems 1 and\n",
    "\n",
    "Problem 1"
   ]
  },
  {
   "cell_type": "markdown",
   "id": "d8abb3b3",
   "metadata": {},
   "source": [
    "This problem asks me to write a program that opens an output file with the filename my_name.txt, writes my name to the file, and then closes the file."
   ]
  },
  {
   "cell_type": "code",
   "execution_count": 4,
   "id": "f78fd5f4",
   "metadata": {},
   "outputs": [],
   "source": [
    "def main():\n",
    "#I am starting by opening a file named my_name.txt and making it a file I can write in by putting the w\n",
    "    outfile = open('my_name.txt', 'w')\n",
    "    \n",
    "#I am now writing my name to the file\n",
    "    outfile.write('Kendal Inman\\n')\n",
    "    \n",
    "#Here I am closing the file\n",
    "    outfile.close()\n",
    "    \n",
    "#Lastly, I am going to call the main function\n",
    "if __name__ == '__main__':\n",
    "    main()"
   ]
  },
  {
   "cell_type": "markdown",
   "id": "9000f276",
   "metadata": {},
   "source": [
    "I closed the file my_name.txt and now my name should be saved within the file if someone were to open it in the read function."
   ]
  },
  {
   "cell_type": "markdown",
   "id": "f9e8393d",
   "metadata": {},
   "source": [
    "Problem 2\n",
    "\n",
    "This problem asks me to open my my_name.txt file that I created in problem 1, have it read my name from the file, display it on the screen, and then close it."
   ]
  },
  {
   "cell_type": "code",
   "execution_count": 7,
   "id": "727f23f3",
   "metadata": {},
   "outputs": [
    {
     "name": "stdout",
     "output_type": "stream",
     "text": [
      "Kendal Inman\n",
      "\n"
     ]
    }
   ],
   "source": [
    "def main():\n",
    "#I am opening the file my_name.txt, but this time using the r function for it to read what is saved in the file\n",
    "    infile = open('my_name.txt', 'r')\n",
    "\n",
    "#This section will read the contents that are within my file so that they can be printed\n",
    "    file_contents = infile.read()\n",
    "    \n",
    "#I am now closing the file\n",
    "    infile.close()\n",
    "    \n",
    "#Here I am using a print function so that the data that was saved in my file from earlier will print once ran\n",
    "    print(file_contents)\n",
    "    \n",
    "#Calling the main function so that my name will print\n",
    "if __name__ == '__main__':\n",
    "    main()"
   ]
  },
  {
   "cell_type": "markdown",
   "id": "0f0f6995",
   "metadata": {},
   "source": [
    "After fixing up this problem, my name printed, which means I did problem 1 correctly and is a very good sign."
   ]
  },
  {
   "cell_type": "markdown",
   "id": "1d71f92c",
   "metadata": {},
   "source": [
    "## Programming Exercises - Problems 1, 6, 9 and \n",
    "\n",
    "Problem 1"
   ]
  },
  {
   "cell_type": "markdown",
   "id": "456f5459",
   "metadata": {},
   "source": [
    "This problem asks me to assume a file containing a series of integers is named numbers.txt and exists on the computer's disk. Write a program that displays all the numbers in the file."
   ]
  },
  {
   "cell_type": "code",
   "execution_count": 7,
   "id": "cb9b670e",
   "metadata": {},
   "outputs": [],
   "source": [
    "def main():\n",
    "    \n",
    "#Open a filed titled numbers.txt that I am able to write in\n",
    "    outfile = open('numbers.txt', 'w')\n",
    "    \n",
    "#I am now going to write a few random numbers to the file\n",
    "    outfile.write('12\\n')\n",
    "    outfile.write('23\\n')\n",
    "    outfile.write('50\\n')\n",
    "    outfile.write('67\\n')\n",
    "        \n",
    "#I am now going to close the file\n",
    "    outfile.close()\n",
    "                  \n",
    "#Calling the main function\n",
    "if __name__ == '__main__':\n",
    "    main()"
   ]
  },
  {
   "cell_type": "code",
   "execution_count": 8,
   "id": "25f84801",
   "metadata": {},
   "outputs": [
    {
     "name": "stdout",
     "output_type": "stream",
     "text": [
      "12\n",
      "23\n",
      "50\n",
      "67\n"
     ]
    }
   ],
   "source": [
    "def main():\n",
    "#I am starting by opening the numbers.txt file in reading mode\n",
    "    infile = open('numbers.txt', 'r')\n",
    "    \n",
    "#Now I am using a for loop to first read the contents within my file, but then to display them\n",
    "    for line in infile:\n",
    "\n",
    "#Setting the variable number equal to int because it is going to be a whole number and line for how many numbers there are\n",
    "        number = int(line)\n",
    "        print(number)\n",
    "        \n",
    "#calling the main function\n",
    "if __name__ == '__main__':\n",
    "    main()"
   ]
  },
  {
   "cell_type": "markdown",
   "id": "2a05f068",
   "metadata": {},
   "source": [
    "Now that I created a file that had numbers in it, when I opened the file numbers.txt in reading mode, all 4 of the numbers I had typed printed."
   ]
  },
  {
   "cell_type": "markdown",
   "id": "660beeaf",
   "metadata": {},
   "source": [
    "Problem 6\n",
    "\n",
    "This problem asks me to assume a file containing a series of integers is named numbers.txt and exists on the computer's disk. Write a program that calculates the average of all the numbers stored in the file."
   ]
  },
  {
   "cell_type": "code",
   "execution_count": 12,
   "id": "925bde67",
   "metadata": {},
   "outputs": [
    {
     "name": "stdout",
     "output_type": "stream",
     "text": [
      "The average of the numbers in this file is 38.0.\n"
     ]
    }
   ],
   "source": [
    "def main():\n",
    "    \n",
    "#I am starting by opening my file with all of my numbers in it\n",
    "    number_file = open('numbers.txt', 'r')\n",
    "    \n",
    "#I am now initializing an accumulator for the variable total to be 0 \n",
    "    total = 0\n",
    "    \n",
    "#I am also initializan an accumulator for the variable count to be 0 as well\n",
    "    count = 0\n",
    "    \n",
    "#I am now using a for statement to get the values from within the file and get the total of them\n",
    "    for line in number_file:\n",
    "        #Converting the line to an int because the numbers are whole\n",
    "        integer = int(line)\n",
    "        \n",
    "        #I am now adding 1 to the count variable\n",
    "        total += integer\n",
    "        count += 1\n",
    "        \n",
    "        average = total / count\n",
    "#Closing the file\n",
    "    number_file.close()\n",
    "    \n",
    "#I am now displaying a prompt for the program to print the average\n",
    "    print(f'The average of the numbers in this file is {average}.')\n",
    "    \n",
    "#Call the main function\n",
    "if __name__ == '__main__':\n",
    "    main()"
   ]
  },
  {
   "cell_type": "markdown",
   "id": "91edbbe8",
   "metadata": {},
   "source": [
    "This problem took multiple changes and looking back to old problems but I finally got it to print the correct average."
   ]
  },
  {
   "cell_type": "markdown",
   "id": "4ac88e91",
   "metadata": {},
   "source": [
    "Problem 9\n",
    "\n",
    "This problem tells me to modify the program from excercise 6 so that it handless the IOError and ValueError."
   ]
  },
  {
   "cell_type": "code",
   "execution_count": 20,
   "id": "0573d5d4",
   "metadata": {},
   "outputs": [
    {
     "ename": "NameError",
     "evalue": "name 'number_file' is not defined",
     "output_type": "error",
     "traceback": [
      "\u001b[0;31m---------------------------------------------------------------------------\u001b[0m",
      "\u001b[0;31mNameError\u001b[0m                                 Traceback (most recent call last)",
      "Cell \u001b[0;32mIn[20], line 36\u001b[0m\n\u001b[1;32m     34\u001b[0m \u001b[38;5;66;03m#Call the main function\u001b[39;00m\n\u001b[1;32m     35\u001b[0m \u001b[38;5;28;01mif\u001b[39;00m \u001b[38;5;18m__name__\u001b[39m \u001b[38;5;241m==\u001b[39m \u001b[38;5;124m'\u001b[39m\u001b[38;5;124m__main__\u001b[39m\u001b[38;5;124m'\u001b[39m:\n\u001b[0;32m---> 36\u001b[0m     \u001b[43mmain\u001b[49m\u001b[43m(\u001b[49m\u001b[43m)\u001b[49m\n",
      "Cell \u001b[0;32mIn[20], line 12\u001b[0m, in \u001b[0;36mmain\u001b[0;34m()\u001b[0m\n\u001b[1;32m     10\u001b[0m \u001b[38;5;28;01mtry\u001b[39;00m:\n\u001b[1;32m     11\u001b[0m     \u001b[38;5;28;01mwith\u001b[39;00m \u001b[38;5;28mopen\u001b[39m(\u001b[38;5;124m'\u001b[39m\u001b[38;5;124mnumbers.txt\u001b[39m\u001b[38;5;124m'\u001b[39m, \u001b[38;5;124m'\u001b[39m\u001b[38;5;124mr\u001b[39m\u001b[38;5;124m'\u001b[39m) \u001b[38;5;28;01mas\u001b[39;00m infile:\n\u001b[0;32m---> 12\u001b[0m         \u001b[38;5;28;01mfor\u001b[39;00m line \u001b[38;5;129;01min\u001b[39;00m \u001b[43mnumber_file\u001b[49m:\n\u001b[1;32m     13\u001b[0m     \u001b[38;5;66;03m#Converting the line to an int because the numbers are whole\u001b[39;00m\n\u001b[1;32m     14\u001b[0m             integer \u001b[38;5;241m=\u001b[39m \u001b[38;5;28mint\u001b[39m(line)\n\u001b[1;32m     16\u001b[0m     \u001b[38;5;66;03m#I am now adding 1 to the count variable\u001b[39;00m\n",
      "\u001b[0;31mNameError\u001b[0m: name 'number_file' is not defined"
     ]
    }
   ],
   "source": [
    "def main():\n",
    "    \n",
    "#I am now initializing an accumulator for the variable total to be 0 \n",
    "    total = 0\n",
    "    \n",
    "#I am also initializan an accumulator for the variable count to be 0 as well\n",
    "    count = 0\n",
    "    \n",
    "#I am now using a for statement to get the values from within the file and get the total of them\n",
    "    try:\n",
    "        with open('numbers.txt', 'r') as infile:\n",
    "            for line in number_file:\n",
    "        #Converting the line to an int because the numbers are whole\n",
    "                integer = int(line)\n",
    "        \n",
    "        #I am now adding 1 to the count variable\n",
    "                total += integer\n",
    "                count += 1\n",
    "        \n",
    "                average = total / count\n",
    "#Closing the file\n",
    "        number_file.close()\n",
    "    \n",
    "#I am now displaying a prompt for the program to print the average\n",
    "        print(f'The average of the numbers in this file is {average}.')\n",
    "    \n",
    "#Here I am adding the exceptions of the two errors we want the code to be able to handle.\n",
    "    except ValueError:\n",
    "        print('Non Numeric data found in the file. ')\n",
    "        \n",
    "    except IOError:\n",
    "        print('This caused an IOError. ')\n",
    "    \n",
    "#Call the main function\n",
    "if __name__ == '__main__':\n",
    "    main()"
   ]
  },
  {
   "cell_type": "code",
   "execution_count": null,
   "id": "9907a969",
   "metadata": {},
   "outputs": [],
   "source": []
  },
  {
   "cell_type": "code",
   "execution_count": null,
   "id": "feffbd6f",
   "metadata": {},
   "outputs": [],
   "source": []
  }
 ],
 "metadata": {
  "kernelspec": {
   "display_name": "Python 3 (ipykernel)",
   "language": "python",
   "name": "python3"
  },
  "language_info": {
   "codemirror_mode": {
    "name": "ipython",
    "version": 3
   },
   "file_extension": ".py",
   "mimetype": "text/x-python",
   "name": "python",
   "nbconvert_exporter": "python",
   "pygments_lexer": "ipython3",
   "version": "3.10.9"
  }
 },
 "nbformat": 4,
 "nbformat_minor": 5
}
