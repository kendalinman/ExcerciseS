{
 "cells": [
  {
   "cell_type": "markdown",
   "id": "f0f358ff",
   "metadata": {},
   "source": [
    "# Chapter 6 Coding Set"
   ]
  },
  {
   "cell_type": "markdown",
   "id": "16c21278",
   "metadata": {},
   "source": [
    "## Algorithm Workbench problems 1 and\n",
    "\n",
    "Problem 1"
   ]
  },
  {
   "cell_type": "markdown",
   "id": "d8abb3b3",
   "metadata": {},
   "source": [
    "This problem asks me to write a program that opens an output file with the filename my_name.txt, writes my name to the file, and then closes the file."
   ]
  },
  {
   "cell_type": "code",
   "execution_count": 4,
   "id": "f78fd5f4",
   "metadata": {},
   "outputs": [],
   "source": [
    "def main():\n",
    "#I am starting by opening a file named my_name.txt and making it a file I can write in by putting the w\n",
    "    outfile = open('my_name.txt', 'w')\n",
    "    \n",
    "#I am now writing my name to the file\n",
    "    outfile.write('Kendal Inman\\n')\n",
    "    \n",
    "#Here I am closing the file\n",
    "    outfile.close()\n",
    "    \n",
    "#Lastly, I am going to call the main function\n",
    "if __name__ == '__main__':\n",
    "    main()"
   ]
  },
  {
   "cell_type": "markdown",
   "id": "9000f276",
   "metadata": {},
   "source": [
    "I closed the file my_name.txt and now my name should be saved within the file if someone were to open it in the read function."
   ]
  },
  {
   "cell_type": "markdown",
   "id": "f9e8393d",
   "metadata": {},
   "source": [
    "Problem 2\n",
    "\n",
    "This problem asks me to open my my_name.txt file that I created in problem 1, have it read my name from the file, display it on the screen, and then close it."
   ]
  },
  {
   "cell_type": "code",
   "execution_count": 7,
   "id": "727f23f3",
   "metadata": {},
   "outputs": [
    {
     "name": "stdout",
     "output_type": "stream",
     "text": [
      "Kendal Inman\n",
      "\n"
     ]
    }
   ],
   "source": [
    "def main():\n",
    "#I am opening the file my_name.txt, but this time using the r function for it to read what is saved in the file\n",
    "    infile = open('my_name.txt', 'r')\n",
    "\n",
    "#This section will read the contents that are within my file so that they can be printed\n",
    "    file_contents = infile.read()\n",
    "    \n",
    "#I am now closing the file\n",
    "    infile.close()\n",
    "    \n",
    "#Here I am using a print function so that the data that was saved in my file from earlier will print once ran\n",
    "    print(file_contents)\n",
    "    \n",
    "#Calling the main function so that my name will print\n",
    "if __name__ == '__main__':\n",
    "    main()"
   ]
  },
  {
   "cell_type": "markdown",
   "id": "0f0f6995",
   "metadata": {},
   "source": [
    "After fixing up this problem, my name printed, which means I did problem 1 correctly and is a very good sign."
   ]
  },
  {
   "cell_type": "markdown",
   "id": "748dde51",
   "metadata": {},
   "source": [
    "## Programming Exercises - Problems 1, 6, 9 and \n",
    "\n",
    "Problem 1"
   ]
  },
  {
   "cell_type": "markdown",
   "id": "3baa43a7",
   "metadata": {},
   "source": [
    "This problem asks me to assume a file containing a series of integers is named numbers.txt and exists on the computer's disk. Write a program that displays all the numbers in the file."
   ]
  },
  {
   "cell_type": "code",
   "execution_count": 7,
   "id": "3a35f22f",
   "metadata": {},
   "outputs": [],
   "source": [
    "def main():\n",
    "    \n",
    "#Open a filed titled numbers.txt that I am able to write in\n",
    "    outfile = open('numbers.txt', 'w')\n",
    "    \n",
    "#I am now going to write a few random numbers to the file\n",
    "    outfile.write('12\\n')\n",
    "    outfile.write('23\\n')\n",
    "    outfile.write('50\\n')\n",
    "    outfile.write('67\\n')\n",
    "        \n",
    "#I am now going to close the file\n",
    "    outfile.close()\n",
    "                  \n",
    "#Calling the main function\n",
    "if __name__ == '__main__':\n",
    "    main()"
   ]
  },
  {
   "cell_type": "code",
   "execution_count": 8,
   "id": "f4e67092",
   "metadata": {},
   "outputs": [
    {
     "name": "stdout",
     "output_type": "stream",
     "text": [
      "12\n",
      "23\n",
      "50\n",
      "67\n"
     ]
    }
   ],
   "source": [
    "def main():\n",
    "#I am starting by opening the numbers.txt file in reading mode\n",
    "    infile = open('numbers.txt', 'r')\n",
    "    \n",
    "#Now I am using a for loop to first read the contents within my file, but then to display them\n",
    "    for line in infile:\n",
    "\n",
    "#Setting the variable number equal to int because it is going to be a whole number and line for how many numbers there are\n",
    "        number = int(line)\n",
    "        print(number)\n",
    "        \n",
    "#calling the main function\n",
    "if __name__ == '__main__':\n",
    "    main()"
   ]
  },
  {
   "cell_type": "markdown",
   "id": "4377decd",
   "metadata": {},
   "source": [
    "Now that I created a file that had numbers in it, when I opened the file numbers.txt in reading mode, all 4 of the numbers I had typed printed."
   ]
  },
  {
   "cell_type": "markdown",
   "id": "cc61545d",
   "metadata": {},
   "source": [
    "Problem 6\n",
    "\n",
    "This problem asks me to assume a file containing a series of integers is named numbers.txt and exists on the computer's disk. Write a program that calculates the average of all the numbers stored in the file."
   ]
  },
  {
   "cell_type": "code",
   "execution_count": null,
   "id": "d4f8d8f6",
   "metadata": {},
   "outputs": [],
   "source": [
    "def main():\n",
    "    \n",
    "#I am starting by opening my file with all of my numbers in it\n",
    "    number_file = open('numbers.txt', 'r')\n",
    "    \n",
    "#I am now initializing an accumulator for the variable total to be 0 \n",
    "    total = 0\n",
    "    \n",
    "#I am also initializan an accumulator for the variable count to be 0 as well\n",
    "    count = 0\n",
    "    \n",
    "#I am now using a for statement to get the values from within the file and get the total of them\n",
    "    for line in number_file:\n",
    "    "
   ]
  }
 ],
 "metadata": {
  "kernelspec": {
   "display_name": "Python 3 (ipykernel)",
   "language": "python",
   "name": "python3"
  },
  "language_info": {
   "codemirror_mode": {
    "name": "ipython",
    "version": 3
   },
   "file_extension": ".py",
   "mimetype": "text/x-python",
   "name": "python",
   "nbconvert_exporter": "python",
   "pygments_lexer": "ipython3",
   "version": "3.10.9"
  }
 },
 "nbformat": 4,
 "nbformat_minor": 5
}
