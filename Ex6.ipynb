{
 "cells": [
  {
   "cell_type": "markdown",
   "id": "5e3b964e",
   "metadata": {},
   "source": [
    "# Chapter 6 Coding Set"
   ]
  },
  {
   "cell_type": "markdown",
   "id": "b7470fe5",
   "metadata": {},
   "source": [
    "## Algorithm Workbench problems 1 and\n",
    "\n",
    "Problem 1"
   ]
  },
  {
   "cell_type": "markdown",
   "id": "29f71aed",
   "metadata": {},
   "source": [
    "This problem asks me to write a program that opens an output file with the filename my_name.txt, writes my name to the file, and then closes the file."
   ]
  },
  {
   "cell_type": "code",
   "execution_count": 4,
   "id": "9c9d31ee",
   "metadata": {},
   "outputs": [],
   "source": [
    "def main():\n",
    "#I am starting by opening a file named my_name.txt and making it a file I can write in by putting the w\n",
    "    outfile = open('my_name.txt', 'w')\n",
    "    \n",
    "#I am now writing my name to the file\n",
    "    outfile.write('Kendal Inman\\n')\n",
    "    \n",
    "#Here I am closing the file\n",
    "    outfile.close()\n",
    "    \n",
    "#Lastly, I am going to call the main function\n",
    "if __name__ == '__main__':\n",
    "    main()"
   ]
  },
  {
   "cell_type": "markdown",
   "id": "81b2ec12",
   "metadata": {},
   "source": [
    "I closed the file my_name.txt and now my name should be saved within the file if someone were to open it in the read function."
   ]
  },
  {
   "cell_type": "markdown",
   "id": "5348cea4",
   "metadata": {},
   "source": [
    "Problem 2\n",
    "\n",
    "This problem asks me to open my my_name.txt file that I created in problem 1, have it read my name from the file, display it on the screen, and then close it."
   ]
  },
  {
   "cell_type": "code",
   "execution_count": 6,
   "id": "bf6b1042",
   "metadata": {},
   "outputs": [],
   "source": [
    "def main():\n",
    "#I am opening the file my_name.txt, but this time using the r function for it to read what is saved in the file\n",
    "    infile = open('my_name.txt', 'r')\n",
    "\n",
    "#This section will read the contents that are within my file so that they can be printed\n",
    "    file_contents = infile.read()\n",
    "    \n",
    "#I am now closing the file\n",
    "    infile.close()\n",
    "    \n",
    "#Here I am using a print function so that the data that was saved in my file from earlier will print once ran\n",
    "    print(file_contents)\n",
    "    \n",
    "#Calling the main function so that my name will print\n",
    "if __name__ == '__main__':\n",
    "    main()"
   ]
  },
  {
   "cell_type": "code",
   "execution_count": null,
   "id": "ad6ffb53",
   "metadata": {},
   "outputs": [],
   "source": []
  }
 ],
 "metadata": {
  "kernelspec": {
   "display_name": "Python 3 (ipykernel)",
   "language": "python",
   "name": "python3"
  },
  "language_info": {
   "codemirror_mode": {
    "name": "ipython",
    "version": 3
   },
   "file_extension": ".py",
   "mimetype": "text/x-python",
   "name": "python",
   "nbconvert_exporter": "python",
   "pygments_lexer": "ipython3",
   "version": "3.10.9"
  }
 },
 "nbformat": 4,
 "nbformat_minor": 5
}
