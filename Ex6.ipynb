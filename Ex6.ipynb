{
 "cells": [
  {
   "cell_type": "markdown",
   "id": "f0f358ff",
   "metadata": {},
   "source": [
    "# Chapter 6 Coding Set"
   ]
  },
  {
   "cell_type": "markdown",
   "id": "16c21278",
   "metadata": {},
   "source": [
    "## Algorithm Workbench problems 1 and\n",
    "\n",
    "Problem 1"
   ]
  },
  {
   "cell_type": "markdown",
   "id": "d8abb3b3",
   "metadata": {},
   "source": [
    "This problem asks me to write a program that opens an output file with the filename my_name.txt, writes my name to the file, and then closes the file."
   ]
  },
  {
   "cell_type": "code",
   "execution_count": 4,
   "id": "f78fd5f4",
   "metadata": {},
   "outputs": [],
   "source": [
    "def main():\n",
    "#I am starting by opening a file named my_name.txt and making it a file I can write in by putting the w\n",
    "    outfile = open('my_name.txt', 'w')\n",
    "    \n",
    "#I am now writing my name to the file\n",
    "    outfile.write('Kendal Inman\\n')\n",
    "    \n",
    "#Here I am closing the file\n",
    "    outfile.close()\n",
    "    \n",
    "#Lastly, I am going to call the main function\n",
    "if __name__ == '__main__':\n",
    "    main()"
   ]
  },
  {
   "cell_type": "markdown",
   "id": "9000f276",
   "metadata": {},
   "source": [
    "I closed the file my_name.txt and now my name should be saved within the file if someone were to open it in the read function."
   ]
  },
  {
   "cell_type": "markdown",
   "id": "f9e8393d",
   "metadata": {},
   "source": [
    "Problem 2\n",
    "\n",
    "This problem asks me to open my my_name.txt file that I created in problem 1, have it read my name from the file, display it on the screen, and then close it."
   ]
  },
  {
   "cell_type": "code",
   "execution_count": 7,
   "id": "727f23f3",
   "metadata": {},
   "outputs": [
    {
     "name": "stdout",
     "output_type": "stream",
     "text": [
      "Kendal Inman\n",
      "\n"
     ]
    }
   ],
   "source": [
    "def main():\n",
    "#I am opening the file my_name.txt, but this time using the r function for it to read what is saved in the file\n",
    "    infile = open('my_name.txt', 'r')\n",
    "\n",
    "#This section will read the contents that are within my file so that they can be printed\n",
    "    file_contents = infile.read()\n",
    "    \n",
    "#I am now closing the file\n",
    "    infile.close()\n",
    "    \n",
    "#Here I am using a print function so that the data that was saved in my file from earlier will print once ran\n",
    "    print(file_contents)\n",
    "    \n",
    "#Calling the main function so that my name will print\n",
    "if __name__ == '__main__':\n",
    "    main()"
   ]
  },
  {
   "cell_type": "markdown",
   "id": "0f0f6995",
   "metadata": {},
   "source": [
    "After fixing up this problem, my name printed, which means I did problem 1 correctly and is a very good sign."
   ]
  },
  {
   "cell_type": "markdown",
   "id": "cdb6ee54",
   "metadata": {},
   "source": [
    "## Programming Exercises - Problems 1, 6, 9 and \n",
    "\n",
    "Problem 1"
   ]
  },
  {
   "cell_type": "markdown",
   "id": "e1980b8a",
   "metadata": {},
   "source": [
    "This problem asks me to assume a file containing a series of integers is named numbers.txt and exists on the computer's disk. Write a program that displays all the numbers in the file."
   ]
  },
  {
   "cell_type": "code",
   "execution_count": 3,
   "id": "4a961ff4",
   "metadata": {},
   "outputs": [
    {
     "ename": "FileNotFoundError",
     "evalue": "[Errno 2] No such file or directory: 'numbers.txt'",
     "output_type": "error",
     "traceback": [
      "\u001b[0;31m---------------------------------------------------------------------------\u001b[0m",
      "\u001b[0;31mFileNotFoundError\u001b[0m                         Traceback (most recent call last)",
      "Cell \u001b[0;32mIn[3], line 14\u001b[0m\n\u001b[1;32m     12\u001b[0m \u001b[38;5;66;03m#calling the main function\u001b[39;00m\n\u001b[1;32m     13\u001b[0m \u001b[38;5;28;01mif\u001b[39;00m \u001b[38;5;18m__name__\u001b[39m \u001b[38;5;241m==\u001b[39m \u001b[38;5;124m'\u001b[39m\u001b[38;5;124m__main__\u001b[39m\u001b[38;5;124m'\u001b[39m:\n\u001b[0;32m---> 14\u001b[0m     \u001b[43mmain\u001b[49m\u001b[43m(\u001b[49m\u001b[43m)\u001b[49m\n",
      "Cell \u001b[0;32mIn[3], line 3\u001b[0m, in \u001b[0;36mmain\u001b[0;34m()\u001b[0m\n\u001b[1;32m      1\u001b[0m \u001b[38;5;28;01mdef\u001b[39;00m \u001b[38;5;21mmain\u001b[39m():\n\u001b[1;32m      2\u001b[0m \u001b[38;5;66;03m#I am starting by opening the numbers.txt file in reading mode\u001b[39;00m\n\u001b[0;32m----> 3\u001b[0m     infile \u001b[38;5;241m=\u001b[39m \u001b[38;5;28;43mopen\u001b[39;49m\u001b[43m(\u001b[49m\u001b[38;5;124;43m'\u001b[39;49m\u001b[38;5;124;43mnumbers.txt\u001b[39;49m\u001b[38;5;124;43m'\u001b[39;49m\u001b[43m,\u001b[49m\u001b[43m \u001b[49m\u001b[38;5;124;43m'\u001b[39;49m\u001b[38;5;124;43mr\u001b[39;49m\u001b[38;5;124;43m'\u001b[39;49m\u001b[43m)\u001b[49m\n\u001b[1;32m      5\u001b[0m \u001b[38;5;66;03m#Now I am using a for loop to first read the contents within my file, but then to display them\u001b[39;00m\n\u001b[1;32m      6\u001b[0m     \u001b[38;5;28;01mfor\u001b[39;00m line \u001b[38;5;129;01min\u001b[39;00m infile:\n\u001b[1;32m      7\u001b[0m \n\u001b[1;32m      8\u001b[0m \u001b[38;5;66;03m#Setting the variable number equal to int because it is going to be a whole number and line for how many numbers there are\u001b[39;00m\n",
      "File \u001b[0;32m~/anaconda3/lib/python3.10/site-packages/IPython/core/interactiveshell.py:282\u001b[0m, in \u001b[0;36m_modified_open\u001b[0;34m(file, *args, **kwargs)\u001b[0m\n\u001b[1;32m    275\u001b[0m \u001b[38;5;28;01mif\u001b[39;00m file \u001b[38;5;129;01min\u001b[39;00m {\u001b[38;5;241m0\u001b[39m, \u001b[38;5;241m1\u001b[39m, \u001b[38;5;241m2\u001b[39m}:\n\u001b[1;32m    276\u001b[0m     \u001b[38;5;28;01mraise\u001b[39;00m \u001b[38;5;167;01mValueError\u001b[39;00m(\n\u001b[1;32m    277\u001b[0m         \u001b[38;5;124mf\u001b[39m\u001b[38;5;124m\"\u001b[39m\u001b[38;5;124mIPython won\u001b[39m\u001b[38;5;124m'\u001b[39m\u001b[38;5;124mt let you open fd=\u001b[39m\u001b[38;5;132;01m{\u001b[39;00mfile\u001b[38;5;132;01m}\u001b[39;00m\u001b[38;5;124m by default \u001b[39m\u001b[38;5;124m\"\u001b[39m\n\u001b[1;32m    278\u001b[0m         \u001b[38;5;124m\"\u001b[39m\u001b[38;5;124mas it is likely to crash IPython. If you know what you are doing, \u001b[39m\u001b[38;5;124m\"\u001b[39m\n\u001b[1;32m    279\u001b[0m         \u001b[38;5;124m\"\u001b[39m\u001b[38;5;124myou can use builtins\u001b[39m\u001b[38;5;124m'\u001b[39m\u001b[38;5;124m open.\u001b[39m\u001b[38;5;124m\"\u001b[39m\n\u001b[1;32m    280\u001b[0m     )\n\u001b[0;32m--> 282\u001b[0m \u001b[38;5;28;01mreturn\u001b[39;00m \u001b[43mio_open\u001b[49m\u001b[43m(\u001b[49m\u001b[43mfile\u001b[49m\u001b[43m,\u001b[49m\u001b[43m \u001b[49m\u001b[38;5;241;43m*\u001b[39;49m\u001b[43margs\u001b[49m\u001b[43m,\u001b[49m\u001b[43m \u001b[49m\u001b[38;5;241;43m*\u001b[39;49m\u001b[38;5;241;43m*\u001b[39;49m\u001b[43mkwargs\u001b[49m\u001b[43m)\u001b[49m\n",
      "\u001b[0;31mFileNotFoundError\u001b[0m: [Errno 2] No such file or directory: 'numbers.txt'"
     ]
    }
   ],
   "source": [
    "def main():\n",
    "#I am starting by opening the numbers.txt file in reading mode\n",
    "    infile = open('numbers.txt', 'r')\n",
    "    \n",
    "#Now I am using a for loop to first read the contents within my file, but then to display them\n",
    "    for line in infile:\n",
    "\n",
    "#Setting the variable number equal to int because it is going to be a whole number and line for how many numbers there are\n",
    "        number = int(line)\n",
    "        print(number)\n",
    "        \n",
    "#calling the main function\n",
    "if __name__ == '__main__':\n",
    "    main()"
   ]
  },
  {
   "cell_type": "code",
   "execution_count": null,
   "id": "397ee765",
   "metadata": {},
   "outputs": [],
   "source": []
  }
 ],
 "metadata": {
  "kernelspec": {
   "display_name": "Python 3 (ipykernel)",
   "language": "python",
   "name": "python3"
  },
  "language_info": {
   "codemirror_mode": {
    "name": "ipython",
    "version": 3
   },
   "file_extension": ".py",
   "mimetype": "text/x-python",
   "name": "python",
   "nbconvert_exporter": "python",
   "pygments_lexer": "ipython3",
   "version": "3.10.9"
  }
 },
 "nbformat": 4,
 "nbformat_minor": 5
}
