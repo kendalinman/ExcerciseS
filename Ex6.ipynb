{
 "cells": [
  {
   "cell_type": "markdown",
   "id": "4988ed39",
   "metadata": {},
   "source": [
    "# Chapter 6 Coding Set"
   ]
  },
  {
   "cell_type": "markdown",
   "id": "09d65af9",
   "metadata": {},
   "source": [
    "## Algorithm Workbench problems 1 and\n",
    "\n",
    "Problem 1"
   ]
  },
  {
   "cell_type": "markdown",
   "id": "43250334",
   "metadata": {},
   "source": [
    "This problem asks me to write a program that opens an output file with the filename my_name.txt, writes my name to the file, and then closes the file."
   ]
  },
  {
   "cell_type": "code",
   "execution_count": 4,
   "id": "e6de5d8c",
   "metadata": {},
   "outputs": [],
   "source": [
    "def main():\n",
    "#I am starting by opening a file named my_name.txt and making it a file I can write in by putting the w\n",
    "    outfile = open('my_name.txt', 'w')\n",
    "    \n",
    "#I am now writing my name to the file\n",
    "    outfile.write('Kendal Inman\\n')\n",
    "    \n",
    "#Here I am closing the file\n",
    "    outfile.close()\n",
    "    \n",
    "#Lastly, I am going to call the main function\n",
    "if __name__ == '__main__':\n",
    "    main()"
   ]
  },
  {
   "cell_type": "markdown",
   "id": "0ae39f22",
   "metadata": {},
   "source": [
    "I closed the file my_name.txt and now my name should be saved with"
   ]
  }
 ],
 "metadata": {
  "kernelspec": {
   "display_name": "Python 3 (ipykernel)",
   "language": "python",
   "name": "python3"
  },
  "language_info": {
   "codemirror_mode": {
    "name": "ipython",
    "version": 3
   },
   "file_extension": ".py",
   "mimetype": "text/x-python",
   "name": "python",
   "nbconvert_exporter": "python",
   "pygments_lexer": "ipython3",
   "version": "3.10.9"
  }
 },
 "nbformat": 4,
 "nbformat_minor": 5
}
