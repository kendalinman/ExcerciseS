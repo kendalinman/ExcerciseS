{
 "cells": [
  {
   "cell_type": "markdown",
   "id": "58057cb0",
   "metadata": {},
   "source": [
    "# Coding Set 11"
   ]
  },
  {
   "cell_type": "markdown",
   "id": "0ee80e19",
   "metadata": {},
   "source": [
    "## Programming Excercises - Problems 1 and 2"
   ]
  },
  {
   "cell_type": "markdown",
   "id": "86a082ac",
   "metadata": {},
   "source": [
    "Problem 1\n",
    "\n",
    "Write an employee class that keeps data attributes for certian pieces of information, then write a subclass that keeps a separate set of information."
   ]
  },
  {
   "cell_type": "code",
   "execution_count": 1,
   "id": "a03bce7a",
   "metadata": {},
   "outputs": [
    {
     "name": "stdout",
     "output_type": "stream",
     "text": [
      "Enter the employees details: \n",
      "Employees name: Dan\n",
      "Employees number: 12\n",
      "Number of shifts (1 for day, 2 for night): 20\n",
      "Hourly pay rate: 13.25\n",
      "\n",
      "Employee details:\n",
      "Name: Dan\n",
      "Employees number: 12\n",
      "Shift number: 20\n",
      "Hourly pay rate: 13.25\n"
     ]
    }
   ],
   "source": [
    "#Import Shiftemployee class from custom module\n",
    "from employee_module import ShiftEmployee\n",
    "\n",
    "#Getting the users input as a string\n",
    "def get_user_input(prompt):\n",
    "    return input(prompt)\n",
    "\n",
    "#Getting the users input as an integer\n",
    "def get_integer_input(prompt):\n",
    "    try:\n",
    "        return int(input(prompt))\n",
    "    #If user doesn't enter an integer, this will print\n",
    "    except ValueError:\n",
    "        print('Invalid input. Please enter an integer.')\n",
    "        return get_integer_input(prompt)\n",
    "    \n",
    "#Get the users input as a floating-point number\n",
    "def get_float_input(prompt):\n",
    "    try:\n",
    "        return float(input(prompt))\n",
    "    except ValueError:\n",
    "        print('Invalid input. Please enter a number.')\n",
    "        return get_float_input(prompt)\n",
    "    \n",
    "\n",
    "def main():\n",
    "    #Creating object of the shiftemployee class\n",
    "    employee = ShiftEmployee()\n",
    "    \n",
    "    print('Enter the employees details: ')\n",
    "    \n",
    "    #Prompt and get user input for all four of the attributes from my module\n",
    "    name = get_user_input('Employees name: ')\n",
    "    number = get_user_input('Employees number: ')\n",
    "    shift_number = get_integer_input('Number of shifts (1 for day, 2 for night): ')\n",
    "    hourly_pay_rate = get_float_input('Hourly pay rate: ')\n",
    "    \n",
    "    #Set the inputted values to the attributes in the employee object\n",
    "    employee.set_name(name)\n",
    "    employee.set_employee_number(number)\n",
    "    employee.set_shift_number(shift_number)\n",
    "    employee.set_hourly_pay_rate(hourly_pay_rate)\n",
    "    \n",
    "    print('\\nEmployee details:')\n",
    "    #Retrieving and printing the employee data from the object with the accessor method\n",
    "    print('Name:', employee.get_name())\n",
    "    print('Employees number:', employee.get_employee_number())\n",
    "    print(\"Shift number:\", employee.get_shift_number())\n",
    "    print(\"Hourly pay rate:\", employee.get_hourly_pay_rate())\n",
    "\n",
    "#Call the main function\n",
    "if __name__ == \"__main__\":\n",
    "    main()  "
   ]
  },
  {
   "cell_type": "markdown",
   "id": "11acbd5c",
   "metadata": {},
   "source": [
    "Problem 2\n",
    "\n",
    "This problem asks me to write a new subclass of the employee class we created in programming exercise one."
   ]
  },
  {
   "cell_type": "code",
   "execution_count": 8,
   "id": "0beb1d96",
   "metadata": {},
   "outputs": [
    {
     "name": "stdout",
     "output_type": "stream",
     "text": [
      "Enter shift supervisor details:\n",
      "Supervisor's name: Lori\n",
      "Supervisor's employee number: 13\n",
      "Shift number (1 for day shift, 2 for night shift): 88\n",
      "Hourly pay rate: 21.55\n",
      "Annual salary: 85000\n",
      "Annual production bonus: 125\n",
      "\n",
      "Supervisor details: \n",
      "Name: Lori\n",
      "Supervisors number: 13\n",
      "Shift number: 88\n",
      "Hourly pay rate: 21.55\n",
      "Annual salary: 85000.0\n",
      "Annual production bonus: 125.0\n"
     ]
    }
   ],
   "source": [
    "#Import ShiftSupervisor class from the custom module\n",
    "from employee_module_2 import ShiftSupervisor\n",
    "\n",
    " #Creating an object of the ShiftSupervisor class\n",
    "def main():\n",
    "    supervisor = ShiftSupervisor()\n",
    "\n",
    "    print(\"Enter shift supervisor details:\")\n",
    "    #Prompt and get user input from all 6 of the attributes for the supervisor this time\n",
    "    name = input(\"Supervisor's name: \")  \n",
    "    number = input(\"Supervisor's employee number: \")  \n",
    "    shift_number = int(input(\"Shift number (1 for day shift, 2 for night shift): \"))  \n",
    "    hourly_pay_rate = float(input(\"Hourly pay rate: \")) \n",
    "    annual_salary = float(input(\"Annual salary: \"))\n",
    "    annual_production_bonus = float(input(\"Annual production bonus: \"))\n",
    "\n",
    "    #Set the inputted values to the attributes in the supervisor object\n",
    "    supervisor.set_name(name)\n",
    "    supervisor.set_employee_number(number)\n",
    "    supervisor.set_shift_number(shift_number)\n",
    "    supervisor.set_hourly_pay_rate(hourly_pay_rate)\n",
    "    supervisor.set_annual_salary(annual_salary)\n",
    "    supervisor.set_annual_production_bonus(annual_production_bonus)\n",
    "    \n",
    "    print('\\nSupervisor details: ')\n",
    "    #Retrieving and printing the supervisor data from the object with the accessor method\n",
    "    print('Name:', supervisor.get_name())\n",
    "    print('Supervisors number:', supervisor.get_employee_number())\n",
    "    print(\"Shift number:\", supervisor.get_shift_number())\n",
    "    print(\"Hourly pay rate:\", supervisor.get_hourly_pay_rate())\n",
    "    print(\"Annual salary:\", supervisor.get_annual_salary())\n",
    "    print(\"Annual production bonus:\", supervisor.get_annual_production_bonus())\n",
    "\n",
    "#Calling the main function\n",
    "if __name__ == \"__main__\":\n",
    "    main()  "
   ]
  },
  {
   "cell_type": "markdown",
   "id": "fe9f886a",
   "metadata": {},
   "source": [
    "I have finished my code and everything ran smoothly!"
   ]
  },
  {
   "cell_type": "code",
   "execution_count": null,
   "id": "0475d05c",
   "metadata": {},
   "outputs": [],
   "source": []
  }
 ],
 "metadata": {
  "kernelspec": {
   "display_name": "Python 3 (ipykernel)",
   "language": "python",
   "name": "python3"
  },
  "language_info": {
   "codemirror_mode": {
    "name": "ipython",
    "version": 3
   },
   "file_extension": ".py",
   "mimetype": "text/x-python",
   "name": "python",
   "nbconvert_exporter": "python",
   "pygments_lexer": "ipython3",
   "version": "3.10.9"
  }
 },
 "nbformat": 4,
 "nbformat_minor": 5
}
