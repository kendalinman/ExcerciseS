{
 "cells": [
  {
   "cell_type": "markdown",
   "id": "16e96549",
   "metadata": {},
   "source": [
    "# Excercise 5"
   ]
  },
  {
   "cell_type": "markdown",
   "id": "d391e2f2",
   "metadata": {},
   "source": [
    "## Algorithm Workbench - Problems 1 and\n",
    "\n",
    "Problem 1"
   ]
  },
  {
   "cell_type": "markdown",
   "id": "1859ddb2",
   "metadata": {},
   "source": [
    "This problem asks me to write a function named times_ten that accepts an argument and displays the product of its argument multiplied times 10."
   ]
  },
  {
   "cell_type": "code",
   "execution_count": null,
   "id": "54174b3e",
   "metadata": {},
   "outputs": [],
   "source": [
    "def main(): #I am starting with main because it is the main overall function that prints everything\n",
    "    number = int(input(Enter a number: )) #Here I am as\n",
    "    times_ten(number)"
   ]
  }
 ],
 "metadata": {
  "kernelspec": {
   "display_name": "Python 3 (ipykernel)",
   "language": "python",
   "name": "python3"
  },
  "language_info": {
   "codemirror_mode": {
    "name": "ipython",
    "version": 3
   },
   "file_extension": ".py",
   "mimetype": "text/x-python",
   "name": "python",
   "nbconvert_exporter": "python",
   "pygments_lexer": "ipython3",
   "version": "3.10.9"
  }
 },
 "nbformat": 4,
 "nbformat_minor": 5
}
