{
 "cells": [
  {
   "cell_type": "markdown",
   "id": "53325dca",
   "metadata": {},
   "source": [
    "# Excercise 5"
   ]
  },
  {
   "cell_type": "markdown",
   "id": "6919ee5e",
   "metadata": {},
   "source": [
    "## Algorithm Workbench - Problems 1 and 2\n",
    "\n",
    "Problem 1"
   ]
  },
  {
   "cell_type": "markdown",
   "id": "75e7e95f",
   "metadata": {},
   "source": [
    "This problem asks me to write a function named times_ten that accepts an argument and displays the product of its argument multiplied times 10."
   ]
  },
  {
   "cell_type": "code",
   "execution_count": 14,
   "id": "85ce7a69",
   "metadata": {},
   "outputs": [
    {
     "name": "stdout",
     "output_type": "stream",
     "text": [
      "Enter a number: 15\n",
      "the number 15 multiplied by 10 is 150\n"
     ]
    }
   ],
   "source": [
    "def main(): #I am starting with main because it is the main overall function that prints everything\n",
    "    number = int(input('Enter a number: ')) #Here I am associating the variable number with asking the user to input a number\n",
    "    times_ten(number) #Here I am associating the number inputted with the times_ten variable so that my problem solves\n",
    "    \n",
    "def times_ten(number):\n",
    "    product = number * 10 #associating the variable product with the number inputted times 10\n",
    "    print(f'the number {number} multiplied by 10 is {product}') #using a statement for our product to be printed in\n",
    "          \n",
    "main() #calling the main function"
   ]
  },
  {
   "cell_type": "markdown",
   "id": "24fd6e0c",
   "metadata": {},
   "source": [
    "This code worked! I used the main function and times_ten function to ask the user to enter a number and then have that number be multiplied by 10."
   ]
  },
  {
   "cell_type": "markdown",
   "id": "f36b98be",
   "metadata": {},
   "source": [
    "Problem 2\n",
    "\n",
    "This problem asks me to write a statement that calls a given function, passing 12 as an argument."
   ]
  },
  {
   "cell_type": "code",
   "execution_count": 21,
   "id": "c706d6cf",
   "metadata": {},
   "outputs": [
    {
     "name": "stdout",
     "output_type": "stream",
     "text": [
      "12\n"
     ]
    }
   ],
   "source": [
    "def main(): #I am starting by stating the main function as the overall function\n",
    "    quantity = 12 #I am next setting the variable quantity equal to 12\n",
    "    show_value(quantity) #Here I am associating show_value to quantity so that when I call back main it prints\n",
    "    \n",
    "def show_value(quantity): #Associating show_value with quantity\n",
    "    print(quantity) #Here I am telling the program to print what I input as quantity which is 12\n",
    "\n",
    "main() #calling the main function"
   ]
  },
  {
   "cell_type": "markdown",
   "id": "d83f18ea",
   "metadata": {},
   "source": [
    "After reading the book, I got this code to work!"
   ]
  },
  {
   "cell_type": "markdown",
   "id": "6b07b8a9",
   "metadata": {},
   "source": [
    "## Programming Excercises - Problems 1, \n",
    "\n",
    "Problem 1"
   ]
  },
  {
   "cell_type": "markdown",
   "id": "89fdcb8a",
   "metadata": {},
   "source": [
    "This problem asks me to write a program that asks the user to enter a distance in kilometers, then uses a function to convert that distance to miles. "
   ]
  },
  {
   "cell_type": "code",
   "execution_count": null,
   "id": "b08f6fda",
   "metadata": {},
   "outputs": [],
   "source": []
  }
 ],
 "metadata": {
  "kernelspec": {
   "display_name": "Python 3 (ipykernel)",
   "language": "python",
   "name": "python3"
  },
  "language_info": {
   "codemirror_mode": {
    "name": "ipython",
    "version": 3
   },
   "file_extension": ".py",
   "mimetype": "text/x-python",
   "name": "python",
   "nbconvert_exporter": "python",
   "pygments_lexer": "ipython3",
   "version": "3.10.9"
  }
 },
 "nbformat": 4,
 "nbformat_minor": 5
}
