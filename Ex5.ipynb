{
 "cells": [
  {
   "cell_type": "markdown",
   "id": "3d2e8eab",
   "metadata": {},
   "source": [
    "# Excercise 5"
   ]
  },
  {
   "cell_type": "markdown",
   "id": "5b61a9f0",
   "metadata": {},
   "source": [
    "## Algorithm Workbench - Problems 1 and\n",
    "\n",
    "Problem 1"
   ]
  },
  {
   "cell_type": "markdown",
   "id": "90f1021f",
   "metadata": {},
   "source": [
    "This problem asks me to write a function named times_ten that accepts an argument and displays the product of its argument multiplied times 10."
   ]
  },
  {
   "cell_type": "code",
   "execution_count": 6,
   "id": "13fd7dc6",
   "metadata": {},
   "outputs": [
    {
     "name": "stdout",
     "output_type": "stream",
     "text": [
      "Enter a number: 15\n",
      "the number 15 multiplied by 10 is 150\n"
     ]
    }
   ],
   "source": [
    "def main(): #I am starting with main because it is the main overall function that prints everything\n",
    "    number = int(input('Enter a number: ')) #Here I am associating the variable number with asking the user to input a number\n",
    "    times_ten(number) #Here I am associating the number inputted with the times_ten variable so that my problem solves\n",
    "    \n",
    "def times_ten(number):\n",
    "    product = number * 10\n",
    "    print(f'the number {number} multiplied by 10 is {product}')\n",
    "          \n",
    "main() #calling the main function"
   ]
  },
  {
   "cell_type": "code",
   "execution_count": null,
   "id": "84f9e9be",
   "metadata": {},
   "outputs": [],
   "source": []
  },
  {
   "cell_type": "code",
   "execution_count": null,
   "id": "50fd95fc",
   "metadata": {},
   "outputs": [],
   "source": []
  }
 ],
 "metadata": {
  "kernelspec": {
   "display_name": "Python 3 (ipykernel)",
   "language": "python",
   "name": "python3"
  },
  "language_info": {
   "codemirror_mode": {
    "name": "ipython",
    "version": 3
   },
   "file_extension": ".py",
   "mimetype": "text/x-python",
   "name": "python",
   "nbconvert_exporter": "python",
   "pygments_lexer": "ipython3",
   "version": "3.10.9"
  }
 },
 "nbformat": 4,
 "nbformat_minor": 5
}
