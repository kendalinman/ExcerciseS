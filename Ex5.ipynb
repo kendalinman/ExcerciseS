{
 "cells": [
  {
   "cell_type": "markdown",
   "id": "8a16ac24",
   "metadata": {},
   "source": [
    "# Excercise 5"
   ]
  },
  {
   "cell_type": "markdown",
   "id": "e95834e3",
   "metadata": {},
   "source": [
    "## Algorithm Workbench - Problems 1 and 2\n",
    "\n",
    "Problem 1"
   ]
  },
  {
   "cell_type": "markdown",
   "id": "36be7c2f",
   "metadata": {},
   "source": [
    "This problem asks me to write a function named times_ten that accepts an argument and displays the product of its argument multiplied times 10."
   ]
  },
  {
   "cell_type": "code",
   "execution_count": 14,
   "id": "1961ba16",
   "metadata": {},
   "outputs": [
    {
     "name": "stdout",
     "output_type": "stream",
     "text": [
      "Enter a number: 15\n",
      "the number 15 multiplied by 10 is 150\n"
     ]
    }
   ],
   "source": [
    "def main(): #I am starting with main because it is the main overall function that prints everything\n",
    "    number = int(input('Enter a number: ')) #Here I am associating the variable number with asking the user to input a number\n",
    "    times_ten(number) #Here I am associating the number inputted with the times_ten variable so that my problem solves\n",
    "    \n",
    "def times_ten(number):\n",
    "    product = number * 10 #associating the variable product with the number inputted times 10\n",
    "    print(f'the number {number} multiplied by 10 is {product}') #using a statement for our product to be printed in\n",
    "          \n",
    "main() #calling the main function"
   ]
  },
  {
   "cell_type": "markdown",
   "id": "1138b3ee",
   "metadata": {},
   "source": [
    "This code worked! I used the main function and times_ten function to ask the user to enter a number and then have that number be multiplied by 10."
   ]
  },
  {
   "cell_type": "markdown",
   "id": "86ea7757",
   "metadata": {},
   "source": [
    "Problem 2\n",
    "\n",
    "This problem asks me to write a statement that calls a given function, passing 12 as an argument."
   ]
  },
  {
   "cell_type": "code",
   "execution_count": 21,
   "id": "c5d127d6",
   "metadata": {},
   "outputs": [
    {
     "name": "stdout",
     "output_type": "stream",
     "text": [
      "12\n"
     ]
    }
   ],
   "source": [
    "def main(): #I am starting by stating the main function as the overall function\n",
    "    quantity = 12 #I am next setting the variable quantity equal to 12\n",
    "    show_value(quantity) #Here I am associating show_value to quantity so that when I call back main it prints\n",
    "    \n",
    "def show_value(quantity): #Associating show_value with quantity\n",
    "    print(quantity) #Here I am telling the program to print what I input as quantity which is 12\n",
    "\n",
    "main() #calling the main function"
   ]
  },
  {
   "cell_type": "markdown",
   "id": "994410c4",
   "metadata": {},
   "source": [
    "After reading the book, I got this code to work!"
   ]
  },
  {
   "cell_type": "markdown",
   "id": "db4f4869",
   "metadata": {},
   "source": [
    "## Programming Excercises - Problems 1, 16, 17, and\n",
    "\n",
    "Problem 1"
   ]
  },
  {
   "cell_type": "markdown",
   "id": "53745457",
   "metadata": {},
   "source": [
    "This problem asks me to write a program that asks the user to enter a distance in kilometers, then uses a function to convert that distance to miles. "
   ]
  },
  {
   "cell_type": "code",
   "execution_count": 24,
   "id": "21cdc947",
   "metadata": {},
   "outputs": [
    {
     "name": "stdout",
     "output_type": "stream",
     "text": [
      "This program converts distanced traveled in kilometers to miles.\n",
      "Enter how many miles you traveled in kilometers: 60\n",
      "That converts to 37.284 miles.\n"
     ]
    }
   ],
   "source": [
    "def main(): #Starting with main, the overall function\n",
    "    intro() #Inputting this will cause my intro sentence to print when I call back main\n",
    "    distance_kilometers = float(input('Enter how many miles you traveled in kilometers: ')) #allows user to input distance travelled\n",
    "    distance_miles(distance_kilometers) #When I call back main what I associate distance_miles with will print\n",
    "    \n",
    "def intro(): #Here I am putting an intro statement so that people know what my code is doing\n",
    "    print('This program converts distanced traveled in kilometers to miles.')\n",
    "    \n",
    "def distance_miles(kilometers): #Here I am changing distance_kilometers to kilometers for my equation\n",
    "    miles = kilometers * .6214 #This is the equation I was given for the probelm\n",
    "    print(f'That converts to {miles} miles.')\n",
    "    \n",
    "main() #calling main so that the function will run"
   ]
  },
  {
   "cell_type": "markdown",
   "id": "594bba67",
   "metadata": {},
   "source": [
    "The code worked, I had to make a few small changes in order to get it to run smoothly but it ended up working!"
   ]
  },
  {
   "cell_type": "markdown",
   "id": "34153b7c",
   "metadata": {},
   "source": [
    "Problem 16\n",
    "\n",
    "This problem asks me to write a boolean function named is_prime which takes an integer as an argument and returnes true if the argument is a prime number and false if not."
   ]
  },
  {
   "cell_type": "code",
   "execution_count": null,
   "id": "716b3fc6",
   "metadata": {},
   "outputs": [],
   "source": [
    "def maine"
   ]
  }
 ],
 "metadata": {
  "kernelspec": {
   "display_name": "Python 3 (ipykernel)",
   "language": "python",
   "name": "python3"
  },
  "language_info": {
   "codemirror_mode": {
    "name": "ipython",
    "version": 3
   },
   "file_extension": ".py",
   "mimetype": "text/x-python",
   "name": "python",
   "nbconvert_exporter": "python",
   "pygments_lexer": "ipython3",
   "version": "3.10.9"
  }
 },
 "nbformat": 4,
 "nbformat_minor": 5
}
