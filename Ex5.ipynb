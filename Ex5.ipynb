{
 "cells": [
  {
   "cell_type": "markdown",
   "id": "eea0c49d",
   "metadata": {},
   "source": [
    "# Excercise 5"
   ]
  },
  {
   "cell_type": "markdown",
   "id": "9d2cb2c8",
   "metadata": {},
   "source": [
    "## Algorithm Workbench - Problems 1 and 2\n",
    "\n",
    "Problem 1"
   ]
  },
  {
   "cell_type": "markdown",
   "id": "b5e3d6b3",
   "metadata": {},
   "source": [
    "This problem asks me to write a function named times_ten that accepts an argument and displays the product of its argument multiplied times 10."
   ]
  },
  {
   "cell_type": "code",
   "execution_count": 14,
   "id": "9bada91a",
   "metadata": {},
   "outputs": [
    {
     "name": "stdout",
     "output_type": "stream",
     "text": [
      "Enter a number: 15\n",
      "the number 15 multiplied by 10 is 150\n"
     ]
    }
   ],
   "source": [
    "def main(): #I am starting with main because it is the main overall function that prints everything\n",
    "    number = int(input('Enter a number: ')) #Here I am associating the variable number with asking the user to input a number\n",
    "    times_ten(number) #Here I am associating the number inputted with the times_ten variable so that my problem solves\n",
    "    \n",
    "def times_ten(number):\n",
    "    product = number * 10 #associating the variable product with the number inputted times 10\n",
    "    print(f'the number {number} multiplied by 10 is {product}') #using a statement for our product to be printed in\n",
    "          \n",
    "main() #calling the main function"
   ]
  },
  {
   "cell_type": "markdown",
   "id": "a385774b",
   "metadata": {},
   "source": [
    "This code worked! I used the main function and times_ten function to ask the user to enter a number and then have that number be multiplied by 10."
   ]
  },
  {
   "cell_type": "markdown",
   "id": "116f7c2a",
   "metadata": {},
   "source": [
    "Problem 2\n",
    "\n",
    "This problem asks me to write a statement that calls a given function, passing 12 as an argument."
   ]
  },
  {
   "cell_type": "code",
   "execution_count": 17,
   "id": "7577ed7c",
   "metadata": {},
   "outputs": [
    {
     "ename": "TypeError",
     "evalue": "show_value() missing 1 required positional argument: 'quantity'",
     "output_type": "error",
     "traceback": [
      "\u001b[0;31m---------------------------------------------------------------------------\u001b[0m",
      "\u001b[0;31mTypeError\u001b[0m                                 Traceback (most recent call last)",
      "Cell \u001b[0;32mIn[17], line 4\u001b[0m\n\u001b[1;32m      1\u001b[0m \u001b[38;5;28;01mdef\u001b[39;00m \u001b[38;5;21mshow_value\u001b[39m(quantity):\n\u001b[1;32m      2\u001b[0m     quantity \u001b[38;5;241m=\u001b[39m \u001b[38;5;241m12\u001b[39m\n\u001b[0;32m----> 4\u001b[0m \u001b[43mshow_value\u001b[49m\u001b[43m(\u001b[49m\u001b[43m)\u001b[49m\n",
      "\u001b[0;31mTypeError\u001b[0m: show_value() missing 1 required positional argument: 'quantity'"
     ]
    }
   ],
   "source": [
    "def main():\n",
    "    "
   ]
  },
  {
   "cell_type": "code",
   "execution_count": null,
   "id": "16efce9c",
   "metadata": {},
   "outputs": [],
   "source": []
  }
 ],
 "metadata": {
  "kernelspec": {
   "display_name": "Python 3 (ipykernel)",
   "language": "python",
   "name": "python3"
  },
  "language_info": {
   "codemirror_mode": {
    "name": "ipython",
    "version": 3
   },
   "file_extension": ".py",
   "mimetype": "text/x-python",
   "name": "python",
   "nbconvert_exporter": "python",
   "pygments_lexer": "ipython3",
   "version": "3.10.9"
  }
 },
 "nbformat": 4,
 "nbformat_minor": 5
}
