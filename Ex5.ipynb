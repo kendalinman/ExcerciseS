{
 "cells": [
  {
   "cell_type": "markdown",
   "id": "d2a4b1a0",
   "metadata": {},
   "source": [
    "# Excercise 5"
   ]
  },
  {
   "cell_type": "markdown",
   "id": "410018ae",
   "metadata": {},
   "source": [
    "## Algorithm Workbench - Problems 1 and 2\n",
    "\n",
    "Problem 1"
   ]
  },
  {
   "cell_type": "markdown",
   "id": "83f9c2fc",
   "metadata": {},
   "source": [
    "This problem asks me to write a function named times_ten that accepts an argument and displays the product of its argument multiplied times 10."
   ]
  },
  {
   "cell_type": "code",
   "execution_count": 14,
   "id": "8cf1c2b0",
   "metadata": {},
   "outputs": [
    {
     "name": "stdout",
     "output_type": "stream",
     "text": [
      "Enter a number: 15\n",
      "the number 15 multiplied by 10 is 150\n"
     ]
    }
   ],
   "source": [
    "def main(): #I am starting with main because it is the main overall function that prints everything\n",
    "    number = int(input('Enter a number: ')) #Here I am associating the variable number with asking the user to input a number\n",
    "    times_ten(number) #Here I am associating the number inputted with the times_ten variable so that my problem solves\n",
    "    \n",
    "def times_ten(number):\n",
    "    product = number * 10 #associating the variable product with the number inputted times 10\n",
    "    print(f'the number {number} multiplied by 10 is {product}') #using a statement for our product to be printed in\n",
    "          \n",
    "main() #calling the main function"
   ]
  },
  {
   "cell_type": "markdown",
   "id": "654439c6",
   "metadata": {},
   "source": [
    "This code worked! I used the main function and times_ten function to ask the user to enter a number and then have that number be multiplied by 10."
   ]
  },
  {
   "cell_type": "markdown",
   "id": "25c4a3bd",
   "metadata": {},
   "source": [
    "Problem 2\n",
    "\n",
    "This problem asks me to write a statement that calls a given function, passing 12 as an argument."
   ]
  },
  {
   "cell_type": "code",
   "execution_count": 21,
   "id": "a12d2547",
   "metadata": {},
   "outputs": [
    {
     "name": "stdout",
     "output_type": "stream",
     "text": [
      "12\n"
     ]
    }
   ],
   "source": [
    "def main(): #I am starting by stating the main function as the overall function\n",
    "    quantity = 12 #I am next setting the variable quantity equal to 12\n",
    "    show_value(quantity) #Here I am associating show_value to quantity so that when I call back main it prints\n",
    "    \n",
    "def show_value(quantity): #Associating show_value with quantity\n",
    "    print(quantity) #Here I am telling the program to print what I input as quantity which is 12\n",
    "\n",
    "main() #calling the main function"
   ]
  },
  {
   "cell_type": "markdown",
   "id": "ad31849c",
   "metadata": {},
   "source": [
    "After reading the book, I got this code to work!"
   ]
  },
  {
   "cell_type": "markdown",
   "id": "8f77e0af",
   "metadata": {},
   "source": [
    "## Programming Excercises - Problems 1, 16, 17, and 6\n",
    "\n",
    "Problem 1"
   ]
  },
  {
   "cell_type": "markdown",
   "id": "428e4579",
   "metadata": {},
   "source": [
    "This problem asks me to write a program that asks the user to enter a distance in kilometers, then uses a function to convert that distance to miles. "
   ]
  },
  {
   "cell_type": "code",
   "execution_count": 24,
   "id": "fe459a13",
   "metadata": {},
   "outputs": [
    {
     "name": "stdout",
     "output_type": "stream",
     "text": [
      "This program converts distanced traveled in kilometers to miles.\n",
      "Enter how many miles you traveled in kilometers: 60\n",
      "That converts to 37.284 miles.\n"
     ]
    }
   ],
   "source": [
    "def main(): #Starting with main, the overall function\n",
    "    intro() #Inputting this will cause my intro sentence to print when I call back main\n",
    "    distance_kilometers = float(input('Enter how many miles you traveled in kilometers: ')) #allows user to input distance travelled\n",
    "    distance_miles(distance_kilometers) #When I call back main what I associate distance_miles with will print\n",
    "    \n",
    "def intro(): #Here I am putting an intro statement so that people know what my code is doing\n",
    "    print('This program converts distanced traveled in kilometers to miles.')\n",
    "    \n",
    "def distance_miles(kilometers): #Here I am changing distance_kilometers to kilometers for my equation\n",
    "    miles = kilometers * .6214 #This is the equation I was given for the probelm\n",
    "    print(f'That converts to {miles} miles.')\n",
    "    \n",
    "main() #calling main so that the function will run"
   ]
  },
  {
   "cell_type": "markdown",
   "id": "ba4be811",
   "metadata": {},
   "source": [
    "The code worked, I had to make a few small changes in order to get it to run smoothly but it ended up working!"
   ]
  },
  {
   "cell_type": "markdown",
   "id": "01ef3458",
   "metadata": {},
   "source": [
    "Problem 16\n",
    "\n",
    "This problem asks me to write a boolean function named is_prime which takes an integer as an argument and returnes true if the argument is a prime number and false if not."
   ]
  },
  {
   "cell_type": "code",
   "execution_count": 6,
   "id": "ffe25ece",
   "metadata": {},
   "outputs": [
    {
     "name": "stdout",
     "output_type": "stream",
     "text": [
      "Please enter an integer to test for a prime: 5\n",
      "We found a prime number.\n"
     ]
    }
   ],
   "source": [
    "#Beginning with a main function so that everything runs smoothly\n",
    "def main():\n",
    "#Associating the variable num with the user inputting a number to test if it is an integer\n",
    "    num = int(input('Please enter an integer to test for a prime: '))\n",
    "    \n",
    "#I am using an if-else statement so that if the number inputted is prime, it prints that it is, if not, it prints that it is not\n",
    "    if is_prime(num):\n",
    "        print('We found a prime number.')\n",
    "    else:\n",
    "        print('This is an ordinary number.')\n",
    "        \n",
    "#Here I am defining the is_prime variable from above\n",
    "def is_prime(num):\n",
    "#Here, I am setting a range starting at 2 and ending with number inputted\n",
    "    for i in range(2, num):\n",
    "#Using an if statement so that if num % 1 == 0, it returns false or ture\n",
    "        if num / i == 0:\n",
    "            return False\n",
    "        return True\n",
    "    \n",
    "main() #calling back main"
   ]
  },
  {
   "cell_type": "code",
   "execution_count": 11,
   "id": "b9714adb",
   "metadata": {
    "scrolled": true
   },
   "outputs": [
    {
     "name": "stdout",
     "output_type": "stream",
     "text": [
      "Please enter an integer to test for a prime: 4\n",
      "This is an ordinary number.\n"
     ]
    }
   ],
   "source": [
    "def main():\n",
    "    num = int(input('Please enter an integer to test for a prime: '))\n",
    "    \n",
    "    if is_prime(num):\n",
    "        print('We found a prime number.')\n",
    "    else:\n",
    "        print('This is an ordinary number.')\n",
    "        \n",
    "def is_prime(num):\n",
    "    for i in range(2, num):\n",
    "        if num % i == 0:\n",
    "            return False\n",
    "    return True\n",
    "    \n",
    "main()"
   ]
  },
  {
   "cell_type": "markdown",
   "id": "9a9b482a",
   "metadata": {},
   "source": [
    "The code worked after making some changes, the comments were the same for both so i didn't add them the second time through.\n",
    "\n",
    "Problem 17\n",
    "\n",
    "This problem assumes I have written the is_prime function from problem 16 and asks me to use that and display all of the prime numbers from 1 to 100"
   ]
  },
  {
   "cell_type": "code",
   "execution_count": 14,
   "id": "746d9485",
   "metadata": {},
   "outputs": [
    {
     "name": "stdout",
     "output_type": "stream",
     "text": [
      "1\n",
      "2\n",
      "3\n",
      "5\n",
      "7\n",
      "11\n",
      "13\n",
      "17\n",
      "19\n",
      "23\n",
      "29\n",
      "31\n",
      "37\n",
      "41\n",
      "43\n",
      "47\n",
      "53\n",
      "59\n",
      "61\n",
      "67\n",
      "71\n",
      "73\n",
      "79\n",
      "83\n",
      "89\n",
      "97\n"
     ]
    }
   ],
   "source": [
    "#I took all of this top chunk from my old problem, number 16, and copy and pasted it so comments are the same\n",
    "#I basically was setting up the variable is_prime with num and if it is prime it should return true if not false\n",
    "def is_prime(num):\n",
    "    for i in range(2, num):\n",
    "        if num % i == 0:\n",
    "            return False\n",
    "    return True\n",
    "\n",
    "for num in range(1, 101): #I am setting a range for the problem, starting at 1, and ending at 101 because our last \n",
    "                          #number should be 100 and 101 won't be included\n",
    "    if is_prime(num): #If the number is prime I asked it to print the number below\n",
    "        print(num)\n",
    "    "
   ]
  },
  {
   "cell_type": "markdown",
   "id": "7a24e858",
   "metadata": {},
   "source": [
    "problem 6\n",
    "\n",
    "this probem tells me the cost of 3 classes of seat costs. It then wants me to ask how many for each class of seats were sold and display the amount of income generated from ticket sales."
   ]
  },
  {
   "cell_type": "code",
   "execution_count": null,
   "id": "c08d9694",
   "metadata": {},
   "outputs": [],
   "source": [
    "#To begin I am setting each class equal to the cost of the tickets\n",
    "class_a = 20\n",
    "class_b = 15\n",
    "class_c = 10\n",
    "\n",
    "#I now need to ask the user the number of tickets of each seating class were bought, I am using int because it is a \n",
    "# whole numer\n",
    "\n",
    "class_a_tickets = int(input())"
   ]
  }
 ],
 "metadata": {
  "kernelspec": {
   "display_name": "Python 3 (ipykernel)",
   "language": "python",
   "name": "python3"
  },
  "language_info": {
   "codemirror_mode": {
    "name": "ipython",
    "version": 3
   },
   "file_extension": ".py",
   "mimetype": "text/x-python",
   "name": "python",
   "nbconvert_exporter": "python",
   "pygments_lexer": "ipython3",
   "version": "3.10.9"
  }
 },
 "nbformat": 4,
 "nbformat_minor": 5
}
