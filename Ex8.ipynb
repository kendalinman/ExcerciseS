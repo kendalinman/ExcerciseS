{
 "cells": [
  {
   "cell_type": "markdown",
   "id": "d73dca40",
   "metadata": {},
   "source": [
    "# Coding Set 8"
   ]
  },
  {
   "cell_type": "markdown",
   "id": "7809ed25",
   "metadata": {},
   "source": [
    "## Algorithm Workbench - Problems 2 and 8\n",
    "\n",
    "Problem 2"
   ]
  },
  {
   "cell_type": "markdown",
   "id": "3d5ee7c8",
   "metadata": {},
   "source": [
    "This problem asks me to write a loop that counts the number of space characters that appear in the string referenced by mystring."
   ]
  },
  {
   "cell_type": "code",
   "execution_count": 1,
   "id": "06981fa1",
   "metadata": {},
   "outputs": [
    {
     "name": "stdout",
     "output_type": "stream",
     "text": [
      "There were a total of 8 spaces in the string.\n"
     ]
    }
   ],
   "source": [
    "def main():\n",
    "    \n",
    "    #Here I am creating a variable that will hold the count, it must start with 0\n",
    "    count = 0\n",
    "    \n",
    "    #Setting the variable mystring equal to a string\n",
    "    mystring = 'I went to the park yesterday with my friends.'\n",
    "    \n",
    "    #I am telling the code here to count the number of spaces in my sentence\n",
    "    for ch in mystring:\n",
    "        if ch == ' ':\n",
    "            count += 1\n",
    "            \n",
    "            \n",
    "    #Printing the number of spaces that are counted\n",
    "    print(f'There were a total of {count} spaces in the string.')\n",
    "    \n",
    "    \n",
    "#Call the main function\n",
    "if __name__ == '__main__':\n",
    "    main()"
   ]
  },
  {
   "cell_type": "markdown",
   "id": "099cb535",
   "metadata": {},
   "source": [
    "The code ran smoothly after having to change some formatting around."
   ]
  },
  {
   "cell_type": "markdown",
   "id": "17769203",
   "metadata": {},
   "source": [
    "Problem 8\n",
    "\n",
    "This problem asks me to assume mystring refrences a string and to write a statement that uses a slicing expression that displays the first 3 characters in the string."
   ]
  },
  {
   "cell_type": "code",
   "execution_count": 2,
   "id": "9e41f34d",
   "metadata": {},
   "outputs": [
    {
     "name": "stdout",
     "output_type": "stream",
     "text": [
      "A25\n"
     ]
    }
   ],
   "source": [
    "def main():\n",
    "    \n",
    "    #Setting the variable my string equal to a string of a series of letters and numbers\n",
    "    mystring = 'A25J98K'\n",
    "    \n",
    "    #printing only the first 3 letters using the slicing method\n",
    "    print(mystring[0:3])\n",
    "    \n",
    "if __name__ == '__main__':\n",
    "    main()"
   ]
  },
  {
   "cell_type": "markdown",
   "id": "b89aead6",
   "metadata": {},
   "source": [
    "The code worked as expected and only the first 3 letters of the string printed."
   ]
  },
  {
   "cell_type": "markdown",
   "id": "48807a6f",
   "metadata": {},
   "source": [
    "## Programming Exercises - Problems 1, \n",
    "\n",
    "Problem 1"
   ]
  },
  {
   "cell_type": "markdown",
   "id": "aabe8c4b",
   "metadata": {},
   "source": [
    "This problem asks me to write a program that gets a string containing a person's first, middle, and last name and displayes the first, middle, and last initals."
   ]
  },
  {
   "cell_type": "code",
   "execution_count": 10,
   "id": "cd8ef946",
   "metadata": {},
   "outputs": [
    {
     "name": "stdout",
     "output_type": "stream",
     "text": [
      "Enter your first name: Kendal\n",
      "Enter your middle name: Ann\n",
      "Enter your last name: Inman\n",
      "The initials are:\n"
     ]
    },
    {
     "ename": "NameError",
     "evalue": "name 'initals' is not defined",
     "output_type": "error",
     "traceback": [
      "\u001b[0;31m---------------------------------------------------------------------------\u001b[0m",
      "\u001b[0;31mNameError\u001b[0m                                 Traceback (most recent call last)",
      "Cell \u001b[0;32mIn[10], line 29\u001b[0m\n\u001b[1;32m     27\u001b[0m \u001b[38;5;66;03m#call the main function\u001b[39;00m\n\u001b[1;32m     28\u001b[0m \u001b[38;5;28;01mif\u001b[39;00m \u001b[38;5;18m__name__\u001b[39m \u001b[38;5;241m==\u001b[39m \u001b[38;5;124m'\u001b[39m\u001b[38;5;124m__main__\u001b[39m\u001b[38;5;124m'\u001b[39m:\n\u001b[0;32m---> 29\u001b[0m     \u001b[43mmain\u001b[49m\u001b[43m(\u001b[49m\u001b[43m)\u001b[49m\n",
      "Cell \u001b[0;32mIn[10], line 25\u001b[0m, in \u001b[0;36mmain\u001b[0;34m()\u001b[0m\n\u001b[1;32m     23\u001b[0m \u001b[38;5;66;03m#get the first, middle, and last initals\u001b[39;00m\n\u001b[1;32m     24\u001b[0m \u001b[38;5;28mprint\u001b[39m(\u001b[38;5;124m'\u001b[39m\u001b[38;5;124mThe initials are:\u001b[39m\u001b[38;5;124m'\u001b[39m)\n\u001b[0;32m---> 25\u001b[0m \u001b[38;5;28mprint\u001b[39m(\u001b[43minitals\u001b[49m\u001b[38;5;241m.\u001b[39mget_name(first, middle, last))\n",
      "\u001b[0;31mNameError\u001b[0m: name 'initals' is not defined"
     ]
    }
   ],
   "source": [
    "def get_name(first, middle, last):\n",
    "    \n",
    "    #Prompting the code to get the first inital of the first, middle, and last name\n",
    "    set1 = first[:0]\n",
    "    \n",
    "    set2 = middle[:0]\n",
    "    \n",
    "    set3 = last[:0]\n",
    "    \n",
    "    #Putting the sets of characters together\n",
    "    initals = set1 + set2 + set3\n",
    "    \n",
    "    return initals\n",
    "    \n",
    "\n",
    "def main():\n",
    "    \n",
    "    #Get the users first, middle, and last name\n",
    "    first = input('Enter your first name: ')\n",
    "    middle = input('Enter your middle name: ')\n",
    "    last = input('Enter your last name: ')\n",
    "    \n",
    "    #get the first, middle, and last initals\n",
    "    print('The initials are:')\n",
    "    print(initals.get_name(first, middle, last))\n",
    "    \n",
    "#call the main function\n",
    "if __name__ == '__main__':\n",
    "    main()"
   ]
  },
  {
   "cell_type": "code",
   "execution_count": 7,
   "id": "22239a37",
   "metadata": {},
   "outputs": [
    {
     "ename": "ModuleNotFoundError",
     "evalue": "No module named 'initals'",
     "output_type": "error",
     "traceback": [
      "\u001b[0;31m---------------------------------------------------------------------------\u001b[0m",
      "\u001b[0;31mModuleNotFoundError\u001b[0m                       Traceback (most recent call last)",
      "Cell \u001b[0;32mIn[7], line 2\u001b[0m\n\u001b[1;32m      1\u001b[0m \u001b[38;5;66;03m#importing the name\u001b[39;00m\n\u001b[0;32m----> 2\u001b[0m \u001b[38;5;28;01mimport\u001b[39;00m \u001b[38;5;21;01minitals\u001b[39;00m\n\u001b[1;32m      4\u001b[0m \u001b[38;5;28;01mdef\u001b[39;00m \u001b[38;5;21mmain\u001b[39m():\n\u001b[1;32m      5\u001b[0m     \n\u001b[1;32m      6\u001b[0m     \u001b[38;5;66;03m#Get the users first, middle, and last name\u001b[39;00m\n\u001b[1;32m      7\u001b[0m     first \u001b[38;5;241m=\u001b[39m \u001b[38;5;28minput\u001b[39m(\u001b[38;5;124m'\u001b[39m\u001b[38;5;124mEnter your first name: \u001b[39m\u001b[38;5;124m'\u001b[39m)\n",
      "\u001b[0;31mModuleNotFoundError\u001b[0m: No module named 'initals'"
     ]
    }
   ],
   "source": [
    "#importing the name\n",
    "import initals\n",
    "\n",
    "def main():\n",
    "    \n",
    "    #Get the users first, middle, and last name\n",
    "    first = input('Enter your first name: ')\n",
    "    middle = input('Enter your middle name: ')\n",
    "    last = input('Enter your last name: ')\n",
    "    \n",
    "    #get the first, middle, and last initals\n",
    "    print('The initials are:')\n",
    "    print(initals.get_name(first, middle, last))\n",
    "    \n",
    "#call the main function\n",
    "if __name__ == '__main__':\n",
    "    main()\n",
    "\n"
   ]
  },
  {
   "cell_type": "code",
   "execution_count": null,
   "id": "794b6ee0",
   "metadata": {},
   "outputs": [],
   "source": []
  }
 ],
 "metadata": {
  "kernelspec": {
   "display_name": "Python 3 (ipykernel)",
   "language": "python",
   "name": "python3"
  },
  "language_info": {
   "codemirror_mode": {
    "name": "ipython",
    "version": 3
   },
   "file_extension": ".py",
   "mimetype": "text/x-python",
   "name": "python",
   "nbconvert_exporter": "python",
   "pygments_lexer": "ipython3",
   "version": "3.10.9"
  }
 },
 "nbformat": 4,
 "nbformat_minor": 5
}
