{
 "cells": [
  {
   "cell_type": "markdown",
   "id": "d73dca40",
   "metadata": {},
   "source": [
    "# Coding Set 8"
   ]
  },
  {
   "cell_type": "markdown",
   "id": "7809ed25",
   "metadata": {},
   "source": [
    "## Algorithm Workbench - Problems 2 and 8\n",
    "\n",
    "Problem 2"
   ]
  },
  {
   "cell_type": "markdown",
   "id": "3d5ee7c8",
   "metadata": {},
   "source": [
    "This problem asks me to write a loop that counts the number of space characters that appear in the string referenced by mystring."
   ]
  },
  {
   "cell_type": "code",
   "execution_count": 1,
   "id": "06981fa1",
   "metadata": {},
   "outputs": [
    {
     "name": "stdout",
     "output_type": "stream",
     "text": [
      "There were a total of 8 spaces in the string.\n"
     ]
    }
   ],
   "source": [
    "def main():\n",
    "    \n",
    "    #Here I am creating a variable that will hold the count, it must start with 0\n",
    "    count = 0\n",
    "    \n",
    "    #Setting the variable mystring equal to a string\n",
    "    mystring = 'I went to the park yesterday with my friends.'\n",
    "    \n",
    "    #I am telling the code here to count the number of spaces in my sentence\n",
    "    for ch in mystring:\n",
    "        if ch == ' ':\n",
    "            count += 1\n",
    "            \n",
    "            \n",
    "    #Printing the number of spaces that are counted\n",
    "    print(f'There were a total of {count} spaces in the string.')\n",
    "    \n",
    "    \n",
    "#Call the main function\n",
    "if __name__ == '__main__':\n",
    "    main()"
   ]
  },
  {
   "cell_type": "markdown",
   "id": "1ddc0b43",
   "metadata": {},
   "source": [
    "The code ran smoothly after having to change some formatting around."
   ]
  },
  {
   "cell_type": "markdown",
   "id": "fdca8ca7",
   "metadata": {},
   "source": [
    "Problem 8\n",
    "\n",
    "This problem asks me to assume mystring refrences a string and to write a statement that uses a slicing expression that displays the first 3 characters in the string."
   ]
  },
  {
   "cell_type": "code",
   "execution_count": 2,
   "id": "0c21c581",
   "metadata": {},
   "outputs": [
    {
     "name": "stdout",
     "output_type": "stream",
     "text": [
      "A25\n"
     ]
    }
   ],
   "source": [
    "def main():\n",
    "    \n",
    "    #Setting the variable my string equal to a string of a series of letters and numbers\n",
    "    mystring = 'A25J98K'\n",
    "    \n",
    "    #printing only the first 3 letters using the slicing method\n",
    "    print(mystring[0:3])\n",
    "    \n",
    "if __name__ == '__main__':\n",
    "    main()"
   ]
  },
  {
   "cell_type": "markdown",
   "id": "2563f5d8",
   "metadata": {},
   "source": [
    "The code worked as expected and only the first 3 letters of the string printed."
   ]
  },
  {
   "cell_type": "markdown",
   "id": "455fecc4",
   "metadata": {},
   "source": [
    "## Programming Exercises - Problems 1, 2, \n",
    "\n",
    "Problem 1"
   ]
  },
  {
   "cell_type": "markdown",
   "id": "86b3ae22",
   "metadata": {},
   "source": [
    "This problem asks me to write a program that gets a string containing a person's first, middle, and last name and displayes the first, middle, and last initals."
   ]
  },
  {
   "cell_type": "code",
   "execution_count": 1,
   "id": "e1b05842",
   "metadata": {},
   "outputs": [
    {
     "name": "stdout",
     "output_type": "stream",
     "text": [
      "Enter your first name: Kendal\n",
      "Enter your middle name: Ann\n",
      "Enter your last name: Inman\n",
      "The initials are:\n",
      "K.A.I.\n"
     ]
    }
   ],
   "source": [
    "def get_name(first, middle, last):\n",
    "    \n",
    "    #Prompting the code to get the first inital of the first, middle, and last name\n",
    "    set1 = first[0]\n",
    "    \n",
    "    set2 = middle[0]\n",
    "    \n",
    "    set3 = last[0]\n",
    "    \n",
    "    #Putting the sets of characters together\n",
    "    initals = set1 + '.' + set2 + '.' + set3 + '.'\n",
    "    \n",
    "    return initals\n",
    "    \n",
    "\n",
    "def main():\n",
    "    \n",
    "    #Get the users first, middle, and last name\n",
    "    first = input('Enter your first name: ')\n",
    "    middle = input('Enter your middle name: ')\n",
    "    last = input('Enter your last name: ')\n",
    "    \n",
    "    #get the first, middle, and last initals\n",
    "    print('The initials are:')\n",
    "    print(get_name(first, middle, last))\n",
    "    \n",
    "#call the main function\n",
    "if __name__ == '__main__':\n",
    "    main()"
   ]
  },
  {
   "cell_type": "markdown",
   "id": "3605cffd",
   "metadata": {},
   "source": [
    "After some changes I got the coe to run as expected and my initials printed properly."
   ]
  },
  {
   "cell_type": "markdown",
   "id": "767c060e",
   "metadata": {},
   "source": [
    "Problem 2\n",
    "\n",
    "This problem asks me to write a program that asks the user to enter a series of single-digit numbers with nothing separating them. The program should display the sum of all the single digit numbers in the string."
   ]
  },
  {
   "cell_type": "code",
   "execution_count": 5,
   "id": "17db7987",
   "metadata": {},
   "outputs": [
    {
     "name": "stdout",
     "output_type": "stream",
     "text": [
      "Please enter a series of single-digit numbers: 56783\n",
      "The sum of the single-digit numbers is 29.\n"
     ]
    }
   ],
   "source": [
    "def main():\n",
    "    # Starting by asking the user to input a series of single-digit numbers\n",
    "    series = input('Please enter a series of single-digit numbers: ')\n",
    "    \n",
    "    # Setting an initializer value of 0 that holds the sum\n",
    "    sum_digits = 0\n",
    "    \n",
    "    # Telling the program to split the series string into individual digits and convert them to integers\n",
    "    for digit in series:\n",
    "        sum_digits = sum_digits + int(digit)\n",
    "        \n",
    "    # Using the print function to print the total\n",
    "    print(f'The sum of the single-digit numbers is {sum_digits}.')\n",
    "          \n",
    "# Calling main function\n",
    "if __name__ == '__main__':\n",
    "    main()\n"
   ]
  },
  {
   "cell_type": "markdown",
   "id": "bf8820e8",
   "metadata": {},
   "source": [
    "\n"
   ]
  },
  {
   "cell_type": "markdown",
   "id": "779538f9",
   "metadata": {},
   "source": [
    "After changing some things in my code I finally got it to print succesfully and give me the sum of the numbers I input."
   ]
  },
  {
   "cell_type": "markdown",
   "id": "ab8b3692",
   "metadata": {},
   "source": [
    "Problem 9\n",
    "\n",
    "This problem asks me to write a program with a function that accepts a string as an argument and returns the number of vowels that the string contains. The application should have another function that accepts a string as an argument and returns the number of consonants that the string contains. The application should let the user enter a string and should display the number of vowels and the number of consonants it contains."
   ]
  },
  {
   "cell_type": "code",
   "execution_count": 1,
   "id": "5a848e00",
   "metadata": {},
   "outputs": [
    {
     "name": "stdout",
     "output_type": "stream",
     "text": [
      "Enter a string of characters: I love coding it is my favorite!\n",
      "That string has 11 vowels and 14 consonants.\n"
     ]
    }
   ],
   "source": [
    "def num_vowels(s):\n",
    "    \n",
    "    #Making a list that contains the vowels\n",
    "    vowels = ['a', 'e', 'i', 'o', 'u']\n",
    "    \n",
    "    #Initializing an accumaltor for the variable vowel_count\n",
    "    vowel_count = 0\n",
    "    \n",
    "    #Counting the vowels that appear in s which stands for the string that I am going to input\n",
    "    for ch in s:\n",
    "        if ch.lower() in vowels:\n",
    "            #Adding one to the accumulator for each vowel counted\n",
    "            vowel_count += 1\n",
    "            \n",
    "    #return the vowel count\n",
    "    return vowel_count\n",
    "\n",
    "def num_consonants(s):\n",
    "    \n",
    "    #Making a list that contains the vowels since there are too many consonants to name\n",
    "    vowels = ['a', 'e', 'i', 'o', 'u']\n",
    "    \n",
    "    #Initializng an accumulator for the variable consonant_count\n",
    "    consonant_count = 0\n",
    "    \n",
    "    #Counting the consonants that appear in s which stands for the string I am going to input\n",
    "    for ch in s:\n",
    "        #Seeing if the character is a letter and is not in the list of vowels\n",
    "        if ch.isalpha() and ch.lower() not in vowels:\n",
    "            #If not a vowel adding one to the accumulator for each consonant\n",
    "            consonant_count += 1\n",
    "            \n",
    "    #return the consonant count\n",
    "    return consonant_count\n",
    "    \n",
    "def main():\n",
    "    #Prompting the user to enter a string\n",
    "    string = input('Enter a string of characters: ')\n",
    "    \n",
    "    #Report the number of vowels and consonances\n",
    "    print('That string has', num_vowels(string), 'vowels and', num_consonants(string), 'consonants.')\n",
    "    \n",
    "#Calling the main function\n",
    "if __name__ == '__main__':\n",
    "    main()"
   ]
  },
  {
   "cell_type": "markdown",
   "id": "b50b4fbc",
   "metadata": {},
   "source": [
    "I finally got the code to run smoothly after changing some formatting and spelling errors."
   ]
  },
  {
   "cell_type": "markdown",
   "id": "fc0b9ddf",
   "metadata": {},
   "source": [
    "Problem 11\n",
    "\n",
    "This problem asks me to write a program that accepts as input a sentence in which all of the words are run together, but the first character of each word is uppercase. Covert the sentence to a string in which the words are separated by spaces, and only the first word starts with an uppercase."
   ]
  },
  {
   "cell_type": "code",
   "execution_count": null,
   "id": "0d6cbd4f",
   "metadata": {},
   "outputs": [],
   "source": [
    "def convert_sentence(string):\n",
    "    \n",
    "    #Here I am initalizing an accumulator of an empty list to store the converted words\n",
    "    converted_words = []\n",
    "    \n",
    "    #Here I am changing the sentence from being combined to different words\n",
    "    current_word = ''\n",
    "    for char in string:\n",
    "        #Checking to see if the character is uppercase\n",
    "        if char.isupper():\n",
    "            #Converting the words that aren't the first to lowercase letters\n",
    "            if current_word != '':\n",
    "                current_word = current_word.lower()\n",
    "                \n",
    "            #Making the first letter of the new word capitalized and adding it to the empty list    \n",
    "            current_word += char.upper()\n",
    "            coverted_words.append(current_word)\n",
    "            \n",
    "            #Resetting the current word\n",
    "            current_word = ''\n",
    "        else:\n",
    "            #Adding the lowercase character to the current word\n",
    "            current_word += char\n",
    "            \n",
    "    #Making the last word all lowercase letters and adding it to the list\n",
    "    current_word = current_word.lower()\n",
    "    converted_words.append(current_word)\n",
    "    \n",
    "    #Now joining all the new words from the list into a sentence with spaces inbetween\n",
    "    converted_sentence = ' '.join(converted_words)\n",
    "    \n",
    "    #Returning the new sentence\n",
    "    return converted_sentence\n",
    "\n",
    "#Attempting to run the function to see if my sentence will separate\n",
    "sentence = input('Please enter a sentence: ')\n"
   ]
  }
 ],
 "metadata": {
  "kernelspec": {
   "display_name": "Python 3 (ipykernel)",
   "language": "python",
   "name": "python3"
  },
  "language_info": {
   "codemirror_mode": {
    "name": "ipython",
    "version": 3
   },
   "file_extension": ".py",
   "mimetype": "text/x-python",
   "name": "python",
   "nbconvert_exporter": "python",
   "pygments_lexer": "ipython3",
   "version": "3.10.9"
  }
 },
 "nbformat": 4,
 "nbformat_minor": 5
}
