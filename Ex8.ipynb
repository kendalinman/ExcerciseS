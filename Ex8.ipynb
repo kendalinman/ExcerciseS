{
 "cells": [
  {
   "cell_type": "markdown",
   "id": "d73dca40",
   "metadata": {},
   "source": [
    "# Coding Set 8"
   ]
  },
  {
   "cell_type": "markdown",
   "id": "7809ed25",
   "metadata": {},
   "source": [
    "## Algorithm Workbench - Problems 2 and\n",
    "\n",
    "Problem 2"
   ]
  },
  {
   "cell_type": "markdown",
   "id": "3d5ee7c8",
   "metadata": {},
   "source": [
    "This problem asks me to write a loop that counts the number of space characters that appear in the string referenced by mystring."
   ]
  },
  {
   "cell_type": "code",
   "execution_count": null,
   "id": "06981fa1",
   "metadata": {},
   "outputs": [],
   "source": [
    "def main():\n",
    "    \n",
    "    #Here I am creating a variable that will hold the count, it must start with 0\n",
    "    count = 0\n",
    "    \n",
    "    #Setting the variable mystring equal to a string\n",
    "    mystring = 'I went to the park yesterday with my friends.'\n",
    "    \n",
    "    #I am telling the code here to count the number of spaces in my sentence\n",
    "    for ch in mystring:\n",
    "        if ch == ' ':\n",
    "            count += 1\n",
    "            \n",
    "            \n",
    "    #Printing the number of spaces that are counted\n",
    "    print(f'There were a total of {count} spaces in the string.')\n",
    "    \n",
    "    \n",
    "#Call the main function\n",
    "if __name__ == '__main__':\n",
    "    main()"
   ]
  },
  {
   "cell_type": "code",
   "execution_count": null,
   "id": "bb009107",
   "metadata": {},
   "outputs": [],
   "source": [
    "def main():\n",
    "    count = 0\n",
    "    mystring = input('enter a sentence: ')\n",
    "    for ch in mystring:\n",
    "        if ch == ' ':\n",
    "            count += 1\n",
    "            \n",
    "    print(f'there were {count} spaces.')\n",
    "    \n",
    "if __name__ == '__main__':\n",
    "    main()"
   ]
  },
  {
   "cell_type": "code",
   "execution_count": null,
   "id": "e1bd01b1",
   "metadata": {},
   "outputs": [],
   "source": []
  },
  {
   "cell_type": "code",
   "execution_count": null,
   "id": "eb49e24d",
   "metadata": {},
   "outputs": [],
   "source": []
  }
 ],
 "metadata": {
  "kernelspec": {
   "display_name": "Python 3 (ipykernel)",
   "language": "python",
   "name": "python3"
  },
  "language_info": {
   "codemirror_mode": {
    "name": "ipython",
    "version": 3
   },
   "file_extension": ".py",
   "mimetype": "text/x-python",
   "name": "python",
   "nbconvert_exporter": "python",
   "pygments_lexer": "ipython3",
   "version": "3.10.9"
  }
 },
 "nbformat": 4,
 "nbformat_minor": 5
}
