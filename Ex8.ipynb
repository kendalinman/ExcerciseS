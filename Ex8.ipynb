{
 "cells": [
  {
   "cell_type": "markdown",
   "id": "66e24968",
   "metadata": {},
   "source": [
    "# Coding Set 8"
   ]
  },
  {
   "cell_type": "markdown",
   "id": "be2de7a9",
   "metadata": {},
   "source": [
    "## Algorithm Workbench - Problems 2 and\n",
    "\n",
    "Problem 2"
   ]
  },
  {
   "cell_type": "markdown",
   "id": "14110af3",
   "metadata": {},
   "source": [
    "This problem asks me to write a loop that counts the number of space characters that appear in the string referenced by mystring."
   ]
  },
  {
   "cell_type": "code",
   "execution_count": null,
   "id": "b7286121",
   "metadata": {},
   "outputs": [],
   "source": [
    "def main():\n",
    "    \n",
    "    #Here I am creating a variable that will hold the count, it must start with 0\n",
    "    count = 0"
   ]
  }
 ],
 "metadata": {
  "kernelspec": {
   "display_name": "Python 3 (ipykernel)",
   "language": "python",
   "name": "python3"
  },
  "language_info": {
   "codemirror_mode": {
    "name": "ipython",
    "version": 3
   },
   "file_extension": ".py",
   "mimetype": "text/x-python",
   "name": "python",
   "nbconvert_exporter": "python",
   "pygments_lexer": "ipython3",
   "version": "3.10.9"
  }
 },
 "nbformat": 4,
 "nbformat_minor": 5
}
