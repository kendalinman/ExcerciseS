{
 "cells": [
  {
   "cell_type": "markdown",
   "id": "b346c4f7",
   "metadata": {},
   "source": [
    "# Chapter 4 Excercises"
   ]
  },
  {
   "cell_type": "markdown",
   "id": "16533674",
   "metadata": {},
   "source": [
    "## Algorithm Workbench - Problems 1 and 3\n",
    "\n",
    "Problem 1"
   ]
  },
  {
   "cell_type": "markdown",
   "id": "4962dbcb",
   "metadata": {},
   "source": [
    "This problem asks me to write a while loop that asks the use for a number and the number should then be multiplied by 10 and assigned to the variable product. The loop should iterate as long as the product is less than 100."
   ]
  },
  {
   "cell_type": "code",
   "execution_count": 2,
   "id": "e5a4e783",
   "metadata": {},
   "outputs": [
    {
     "name": "stdout",
     "output_type": "stream",
     "text": [
      "Please enter a number: 5\n",
      "50.0\n",
      "Please enter a number: 9\n",
      "90.0\n",
      "Please enter a number: 12\n"
     ]
    }
   ],
   "source": [
    "number = float(input('Please enter a number: ')) #This step will allow the user to input a number\n",
    "product = number * 10 #I am first setting the variable product to the number inputted times 10 because the problem gave me this\n",
    "\n",
    "while product < 100: #Here I am beginning my while loop, making sure to specify that product has to be less than 100\n",
    "    print(product) #If product < 10, I want the product to be printed\n",
    "    number = float(input('Please enter a number: ')) #Inputting the number and product again here will continue the loop\n",
    "    product = number * 10\n"
   ]
  },
  {
   "cell_type": "markdown",
   "id": "67f1ffb1",
   "metadata": {},
   "source": [
    "In order to create the loop, I had to state what number and product were before and after I used while, after this I can continue to enter numbers that multiplied by 10 will be less than 100 until I use a number that is too large."
   ]
  },
  {
   "cell_type": "markdown",
   "id": "809cfa7a",
   "metadata": {},
   "source": [
    "Problem 3\n",
    "\n",
    "This problem asks me to write a for loop that displays the numbers 0 - 1000 going up by 10 each time."
   ]
  },
  {
   "cell_type": "code",
   "execution_count": 3,
   "id": "5ce165ee",
   "metadata": {},
   "outputs": [
    {
     "name": "stdout",
     "output_type": "stream",
     "text": [
      "0\n",
      "10\n",
      "20\n",
      "30\n",
      "40\n",
      "50\n",
      "60\n",
      "70\n",
      "80\n",
      "90\n",
      "100\n",
      "110\n",
      "120\n",
      "130\n",
      "140\n",
      "150\n",
      "160\n",
      "170\n",
      "180\n",
      "190\n",
      "200\n",
      "210\n",
      "220\n",
      "230\n",
      "240\n",
      "250\n",
      "260\n",
      "270\n",
      "280\n",
      "290\n",
      "300\n",
      "310\n",
      "320\n",
      "330\n",
      "340\n",
      "350\n",
      "360\n",
      "370\n",
      "380\n",
      "390\n",
      "400\n",
      "410\n",
      "420\n",
      "430\n",
      "440\n",
      "450\n",
      "460\n",
      "470\n",
      "480\n",
      "490\n",
      "500\n",
      "510\n",
      "520\n",
      "530\n",
      "540\n",
      "550\n",
      "560\n",
      "570\n",
      "580\n",
      "590\n",
      "600\n",
      "610\n",
      "620\n",
      "630\n",
      "640\n",
      "650\n",
      "660\n",
      "670\n",
      "680\n",
      "690\n",
      "700\n",
      "710\n",
      "720\n",
      "730\n",
      "740\n",
      "750\n",
      "760\n",
      "770\n",
      "780\n",
      "790\n",
      "800\n",
      "810\n",
      "820\n",
      "830\n",
      "840\n",
      "850\n",
      "860\n",
      "870\n",
      "880\n",
      "890\n",
      "900\n",
      "910\n",
      "920\n",
      "930\n",
      "940\n",
      "950\n",
      "960\n",
      "970\n",
      "980\n",
      "990\n"
     ]
    }
   ],
   "source": [
    "for num in range(0, 1000, 10): #I am using a for range function for this problem, I put 0 first because thats my \n",
    "                               #starting number, 1000 my ending number, and 10 as the number we're going up by\n",
    "    print(num)  #For the numbers that meet all of the expectations above, the number should print below"
   ]
  },
  {
   "cell_type": "markdown",
   "id": "eeb4a80b",
   "metadata": {},
   "source": [
    "I see that the code stopped at 990 when it was supposed to go till 1000, to fix this I will put 1001 and the last number because 1000 will then be included where when I put 1000 as the end number, it wasn't included."
   ]
  },
  {
   "cell_type": "code",
   "execution_count": 5,
   "id": "e1fb7bcb",
   "metadata": {},
   "outputs": [
    {
     "name": "stdout",
     "output_type": "stream",
     "text": [
      "0\n",
      "10\n",
      "20\n",
      "30\n",
      "40\n",
      "50\n",
      "60\n",
      "70\n",
      "80\n",
      "90\n",
      "100\n",
      "110\n",
      "120\n",
      "130\n",
      "140\n",
      "150\n",
      "160\n",
      "170\n",
      "180\n",
      "190\n",
      "200\n",
      "210\n",
      "220\n",
      "230\n",
      "240\n",
      "250\n",
      "260\n",
      "270\n",
      "280\n",
      "290\n",
      "300\n",
      "310\n",
      "320\n",
      "330\n",
      "340\n",
      "350\n",
      "360\n",
      "370\n",
      "380\n",
      "390\n",
      "400\n",
      "410\n",
      "420\n",
      "430\n",
      "440\n",
      "450\n",
      "460\n",
      "470\n",
      "480\n",
      "490\n",
      "500\n",
      "510\n",
      "520\n",
      "530\n",
      "540\n",
      "550\n",
      "560\n",
      "570\n",
      "580\n",
      "590\n",
      "600\n",
      "610\n",
      "620\n",
      "630\n",
      "640\n",
      "650\n",
      "660\n",
      "670\n",
      "680\n",
      "690\n",
      "700\n",
      "710\n",
      "720\n",
      "730\n",
      "740\n",
      "750\n",
      "760\n",
      "770\n",
      "780\n",
      "790\n",
      "800\n",
      "810\n",
      "820\n",
      "830\n",
      "840\n",
      "850\n",
      "860\n",
      "870\n",
      "880\n",
      "890\n",
      "900\n",
      "910\n",
      "920\n",
      "930\n",
      "940\n",
      "950\n",
      "960\n",
      "970\n",
      "980\n",
      "990\n",
      "1000\n"
     ]
    }
   ],
   "source": [
    "for num in range(0, 1001, 10): #I am using a for range function for this problem, I put 0 first because thats my \n",
    "                               #starting number, 1001 is my new ending number so 1000 is included, and 10 as the number we're going up by\n",
    "    print(num)  #For the numbers that meet all of the expectations above, the number should print below"
   ]
  },
  {
   "cell_type": "markdown",
   "id": "3bf819ba",
   "metadata": {},
   "source": [
    "As you can see, when I used 1001 as the ending number, 1000 was included causing my code to run smoothly starting at 0, going up by 10, and ending at 1000."
   ]
  },
  {
   "cell_type": "markdown",
   "id": "ceafa030",
   "metadata": {},
   "source": [
    "## Programming Excercises - Problems 1, 4, \n",
    "\n",
    "Problem 1"
   ]
  },
  {
   "cell_type": "markdown",
   "id": "8d7a3107",
   "metadata": {},
   "source": [
    "This problem asks me to write a program that keeps a running total of the number of bugs collected during five days of a bug collecter is collecting them, and when the loop is finished the program should display the total number of bugs collected."
   ]
  },
  {
   "cell_type": "code",
   "execution_count": 10,
   "id": "f4e78342",
   "metadata": {},
   "outputs": [
    {
     "name": "stdout",
     "output_type": "stream",
     "text": [
      "Enter the amount of bugs collected on day 1\n",
      "5\n",
      "Enter the amount of bugs collected on day 2\n",
      "7\n",
      "Enter the amount of bugs collected on day 3\n",
      "4\n",
      "Enter the amount of bugs collected on day 4\n",
      "2\n",
      "Enter the amount of bugs collected on day 5\n",
      "6\n",
      "You collected a total of 24 bugs\n"
     ]
    }
   ],
   "source": [
    "total = 0 #I need to set the variable total equal to 0 in order for my problem to run later and calculate the total number of bugs collected\n",
    "for day in range(1, 6): #I am starting by using a for statement with the range starting at day 1 and ending at day 6\n",
    "                       #So that day 5 is included but not day 6\n",
    "    print('Enter the amount of bugs collected on day', day) #Here i am setting the variable bugs equal to the usering inputting how many were collected\n",
    "    bugs = int(input())\n",
    "    total += bugs # Setting the total += to bugs causes the program to add each amoung of bugs the user inputs as the total collected\n",
    "    \n",
    "print('You collected a total of', total, 'bugs') #I am printing a prompt for the program to enter the total of bugs after solving\n"
   ]
  },
  {
   "cell_type": "markdown",
   "id": "1d9c20c5",
   "metadata": {},
   "source": [
    "After all these steps, the code ran asking for the number of bugs collected on days 1-5 and enterting the total collected at the end."
   ]
  },
  {
   "cell_type": "markdown",
   "id": "543ce643",
   "metadata": {},
   "source": [
    "Problem 4\n",
    "\n",
    "This problem asks me to write a program that asks the user for the speed of a vehicle in mph and the number of hours it has traveled. It should then use a loop to display the distance the vehicle traveled in the number of hours inputted."
   ]
  },
  {
   "cell_type": "code",
   "execution_count": 5,
   "id": "44ebb001",
   "metadata": {},
   "outputs": [
    {
     "name": "stdout",
     "output_type": "stream",
     "text": [
      "This program displays a vehicles hours and distance traveled\n",
      "what is the speed of the vehicle in mph? 65\n",
      "how many hours has it traveled? 5\n",
      "hour\tdistance traveled\n",
      "-----------------------\n",
      "1\t65\n",
      "2\t130\n",
      "3\t195\n",
      "4\t260\n",
      "5\t325\n"
     ]
    }
   ],
   "source": [
    "print('This program displays a vehicles hours and distance traveled')#Here I am inputting prompt for the probelm\n",
    "\n",
    "#Here I am setting the variable speed equal to the prompt asking the user the speed the vehicle traveled\n",
    "speed = int(input(\"what is the speed of the vehicle in mph? \")) \n",
    "\n",
    "#Here I am setting the variable time equal to the hours the vehicle has traveled\n",
    "time = int(input('how many hours has it traveled? '))\n",
    "\n",
    "#Printing these below set up the graph how I want, the t causes the word distance to be spaced from hour as I learned in this chapter\n",
    "print('hour\\tdistance traveled')\n",
    "print('-----------------------')\n",
    "\n",
    "#I am using a for statement so that the variable time starts at 1 hour and continues to the time I input plus one to include the hour I input\n",
    "for time in range(1, time + 1):\n",
    "\n",
    "#Here I am setting distance equal to speed * time which is the formula the problem gave me\n",
    "    distance = speed * time\n",
    "    \n",
    "#I am asking the program to print the time and distance, in this chapter I learned to set it up this way in order\n",
    "#for the time and distance to be spaced and the time I inputted, not the word time I did this by using f and t\n",
    "    print(f'{time}\\t{distance}')"
   ]
  },
  {
   "cell_type": "markdown",
   "id": "7c1b8e4e",
   "metadata": {},
   "source": [
    "After many changes and looking back at my book at examples of this kind of code, I got it to run smoothly and execute how the problem asked me to."
   ]
  },
  {
   "cell_type": "markdown",
   "id": "54e57693",
   "metadata": {},
   "source": [
    "Problem 13\n",
    "\n",
    "This problem asks me to use a nested loop to print a triangle pattern of *'s with 7 at the top and decreasing each time until there aren't any."
   ]
  },
  {
   "cell_type": "code",
   "execution_count": 33,
   "id": "dd1a427a",
   "metadata": {},
   "outputs": [
    {
     "name": "stdout",
     "output_type": "stream",
     "text": [
      "*******\n",
      "******\n",
      "*****\n",
      "****\n",
      "***\n",
      "**\n",
      "*\n"
     ]
    }
   ],
   "source": [
    "#I am first setting my start size to 7 because the program starts with 7 *s\n",
    "start_size = 7\n",
    "\n",
    "#Here I am saying that the range has to be 7 which is my start size and r is the number of rows in the problme\n",
    "for r in range(start_size):\n",
    "\n",
    "#Here I am claiming that once we start with the start size 7, a row (r) needs to be subtracted each time\n",
    "    for c in range(start_size - r):\n",
    "        \n",
    "#After reading the book, I am telling the program to print a * of which I prompt with my start size, and end at 0\n",
    "        print('*', end ='')\n",
    "    print()"
   ]
  },
  {
   "cell_type": "markdown",
   "id": "a610ee7b",
   "metadata": {},
   "source": [
    "Problem 14\n",
    "\n",
    "For this problem I am asked to write a nested loop of the # in a certain stair step way."
   ]
  },
  {
   "cell_type": "code",
   "execution_count": 49,
   "id": "6ed40128",
   "metadata": {},
   "outputs": [
    {
     "name": "stdout",
     "output_type": "stream",
     "text": [
      "#\n",
      " #\n",
      "  ##\n",
      "   #\n",
      "    #\n",
      "     #\n"
     ]
    }
   ],
   "source": [
    "#I am first going to set the number of \"steps\" I want in my code which is 6\n",
    "num_steps = 6\n",
    "\n",
    "#Setting r to be in the range of num_steps will set it to starting at 0, and ending at 6\n",
    "for r in range(num_steps):\n",
    "\n",
    "#The variable r is going to increase by 1 each time, so c in range r will start at 0, go up to 1, and so on until 6\n",
    "    for c in range(r):\n",
    "        print(' ', end='')\n",
    "    if c == 1:\n",
    "        print('#', end='')\n",
    "    print('#')"
   ]
  },
  {
   "cell_type": "code",
   "execution_count": 31,
   "id": "483ce683",
   "metadata": {},
   "outputs": [
    {
     "name": "stdout",
     "output_type": "stream",
     "text": [
      "##\n",
      "# #\n",
      "#  #\n",
      "#   #\n",
      "#    #\n",
      "#     #\n"
     ]
    }
   ],
   "source": [
    "num_steps = 6 #Here I am setting the number of steps to be 6\n",
    "for r in range(num_steps): #r is going to be the number of rows which is 6 in this case because I set it equal to this\n",
    "    for c in range(r + 1): #c is going to r plus one because there are 7 columns in this problem\n",
    "        if c == 0: #We are checking to see if it is the first column of the row to see if it needs a # sign\n",
    "            print('#', end='') #for the first column in every row there is a # sign, so we are printing it in the first column\n",
    "        elif c == r + 1: #We are now checking to see if it is the last column of the row\n",
    "            print('#', end='') #If it is the last column it will print the number sign in th\n",
    "        else:\n",
    "            print(' ', end='')\n",
    "    print('#')"
   ]
  },
  {
   "cell_type": "code",
   "execution_count": null,
   "id": "4245c8fe",
   "metadata": {},
   "outputs": [],
   "source": []
  },
  {
   "cell_type": "code",
   "execution_count": null,
   "id": "ae2ebf24",
   "metadata": {},
   "outputs": [],
   "source": []
  }
 ],
 "metadata": {
  "kernelspec": {
   "display_name": "Python 3 (ipykernel)",
   "language": "python",
   "name": "python3"
  },
  "language_info": {
   "codemirror_mode": {
    "name": "ipython",
    "version": 3
   },
   "file_extension": ".py",
   "mimetype": "text/x-python",
   "name": "python",
   "nbconvert_exporter": "python",
   "pygments_lexer": "ipython3",
   "version": "3.10.9"
  }
 },
 "nbformat": 4,
 "nbformat_minor": 5
}
