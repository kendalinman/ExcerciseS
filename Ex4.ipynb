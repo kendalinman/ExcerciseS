{
 "cells": [
  {
   "cell_type": "markdown",
   "id": "2cae7d98",
   "metadata": {},
   "source": [
    "# Chapter 4 Excercises"
   ]
  },
  {
   "cell_type": "markdown",
   "id": "79a8d2b0",
   "metadata": {},
   "source": [
    "## Algorithm Workbench - Problems 1\n",
    "\n",
    "Problem 1"
   ]
  },
  {
   "cell_type": "markdown",
   "id": "6fb21576",
   "metadata": {},
   "source": [
    "This problem asks me to write a while loop that asks the use for a number and the number should then be multiplied by 10 and assigned to the variable product. The loop should iterate as long as the product is less than 100."
   ]
  },
  {
   "cell_type": "code",
   "execution_count": 3,
   "id": "5ea0906c",
   "metadata": {},
   "outputs": [
    {
     "name": "stdout",
     "output_type": "stream",
     "text": [
      "Please enter a number: 10\n"
     ]
    }
   ],
   "source": [
    "number = float(input('Please enter a number: ')) #Doing this next step will allow the user to input a number\n",
    "product = number * 10 #I am first setting the variable product to be less or equal to 100 because it cannot be more than 100\n",
    "\n",
    "while product < 100:\n",
    "    print(product)\n"
   ]
  },
  {
   "cell_type": "code",
   "execution_count": null,
   "id": "5845ace3",
   "metadata": {},
   "outputs": [],
   "source": []
  }
 ],
 "metadata": {
  "kernelspec": {
   "display_name": "Python 3 (ipykernel)",
   "language": "python",
   "name": "python3"
  },
  "language_info": {
   "codemirror_mode": {
    "name": "ipython",
    "version": 3
   },
   "file_extension": ".py",
   "mimetype": "text/x-python",
   "name": "python",
   "nbconvert_exporter": "python",
   "pygments_lexer": "ipython3",
   "version": "3.10.9"
  }
 },
 "nbformat": 4,
 "nbformat_minor": 5
}
