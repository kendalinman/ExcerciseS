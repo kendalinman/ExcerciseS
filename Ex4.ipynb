{
 "cells": [
  {
   "cell_type": "markdown",
   "id": "b346c4f7",
   "metadata": {},
   "source": [
    "# Chapter 4 Excercises"
   ]
  },
  {
   "cell_type": "markdown",
   "id": "16533674",
   "metadata": {},
   "source": [
    "## Algorithm Workbench - Problems 1 and 3\n",
    "\n",
    "Problem 1"
   ]
  },
  {
   "cell_type": "markdown",
   "id": "4962dbcb",
   "metadata": {},
   "source": [
    "This problem asks me to write a while loop that asks the use for a number and the number should then be multiplied by 10 and assigned to the variable product. The loop should iterate as long as the product is less than 100."
   ]
  },
  {
   "cell_type": "code",
   "execution_count": 2,
   "id": "e5a4e783",
   "metadata": {},
   "outputs": [
    {
     "name": "stdout",
     "output_type": "stream",
     "text": [
      "Please enter a number: 5\n",
      "50.0\n",
      "Please enter a number: 9\n",
      "90.0\n",
      "Please enter a number: 12\n"
     ]
    }
   ],
   "source": [
    "number = float(input('Please enter a number: ')) #This step will allow the user to input a number\n",
    "product = number * 10 #I am first setting the variable product to the number inputted times 10 because the problem gave me this\n",
    "\n",
    "while product < 100: #Here I am beginning my while loop, making sure to specify that product has to be less than 100\n",
    "    print(product) #If product < 10, I want the product to be printed\n",
    "    number = float(input('Please enter a number: ')) #Inputting the number and product again here will continue the loop\n",
    "    product = number * 10\n"
   ]
  },
  {
   "cell_type": "markdown",
   "id": "67f1ffb1",
   "metadata": {},
   "source": [
    "In order to create the loop, I had to state what number and product were before and after I used while, after this I can continue to enter numbers that multiplied by 10 will be less than 100 until I use a number that is too large."
   ]
  },
  {
   "cell_type": "markdown",
   "id": "622b2035",
   "metadata": {},
   "source": [
    "Problem 3\n",
    "\n",
    "This problem asks me to write a for loop that displays the numbers 0 - 1000 going up by 10 each time."
   ]
  },
  {
   "cell_type": "code",
   "execution_count": 3,
   "id": "7b86429b",
   "metadata": {},
   "outputs": [
    {
     "name": "stdout",
     "output_type": "stream",
     "text": [
      "0\n",
      "10\n",
      "20\n",
      "30\n",
      "40\n",
      "50\n",
      "60\n",
      "70\n",
      "80\n",
      "90\n",
      "100\n",
      "110\n",
      "120\n",
      "130\n",
      "140\n",
      "150\n",
      "160\n",
      "170\n",
      "180\n",
      "190\n",
      "200\n",
      "210\n",
      "220\n",
      "230\n",
      "240\n",
      "250\n",
      "260\n",
      "270\n",
      "280\n",
      "290\n",
      "300\n",
      "310\n",
      "320\n",
      "330\n",
      "340\n",
      "350\n",
      "360\n",
      "370\n",
      "380\n",
      "390\n",
      "400\n",
      "410\n",
      "420\n",
      "430\n",
      "440\n",
      "450\n",
      "460\n",
      "470\n",
      "480\n",
      "490\n",
      "500\n",
      "510\n",
      "520\n",
      "530\n",
      "540\n",
      "550\n",
      "560\n",
      "570\n",
      "580\n",
      "590\n",
      "600\n",
      "610\n",
      "620\n",
      "630\n",
      "640\n",
      "650\n",
      "660\n",
      "670\n",
      "680\n",
      "690\n",
      "700\n",
      "710\n",
      "720\n",
      "730\n",
      "740\n",
      "750\n",
      "760\n",
      "770\n",
      "780\n",
      "790\n",
      "800\n",
      "810\n",
      "820\n",
      "830\n",
      "840\n",
      "850\n",
      "860\n",
      "870\n",
      "880\n",
      "890\n",
      "900\n",
      "910\n",
      "920\n",
      "930\n",
      "940\n",
      "950\n",
      "960\n",
      "970\n",
      "980\n",
      "990\n"
     ]
    }
   ],
   "source": [
    "for num in range(0, 1000, 10): #I am using a for range function for this problem, I put 0 first because thats my \n",
    "                               #starting number, 1000 my ending number, and 10 as the number we're going up by\n",
    "    print(num)  #For the numbers that meet all of the expectations above, the number should print below"
   ]
  },
  {
   "cell_type": "markdown",
   "id": "075533bf",
   "metadata": {},
   "source": [
    "I see that the code stopped at 990 when it was supposed to go till 1000, to fix this I will put 1001 and the last number because 1000 will then be included where when I put 1000 as the end number, it wasn't included."
   ]
  },
  {
   "cell_type": "code",
   "execution_count": 5,
   "id": "cb8bef5f",
   "metadata": {},
   "outputs": [
    {
     "name": "stdout",
     "output_type": "stream",
     "text": [
      "0\n",
      "10\n",
      "20\n",
      "30\n",
      "40\n",
      "50\n",
      "60\n",
      "70\n",
      "80\n",
      "90\n",
      "100\n",
      "110\n",
      "120\n",
      "130\n",
      "140\n",
      "150\n",
      "160\n",
      "170\n",
      "180\n",
      "190\n",
      "200\n",
      "210\n",
      "220\n",
      "230\n",
      "240\n",
      "250\n",
      "260\n",
      "270\n",
      "280\n",
      "290\n",
      "300\n",
      "310\n",
      "320\n",
      "330\n",
      "340\n",
      "350\n",
      "360\n",
      "370\n",
      "380\n",
      "390\n",
      "400\n",
      "410\n",
      "420\n",
      "430\n",
      "440\n",
      "450\n",
      "460\n",
      "470\n",
      "480\n",
      "490\n",
      "500\n",
      "510\n",
      "520\n",
      "530\n",
      "540\n",
      "550\n",
      "560\n",
      "570\n",
      "580\n",
      "590\n",
      "600\n",
      "610\n",
      "620\n",
      "630\n",
      "640\n",
      "650\n",
      "660\n",
      "670\n",
      "680\n",
      "690\n",
      "700\n",
      "710\n",
      "720\n",
      "730\n",
      "740\n",
      "750\n",
      "760\n",
      "770\n",
      "780\n",
      "790\n",
      "800\n",
      "810\n",
      "820\n",
      "830\n",
      "840\n",
      "850\n",
      "860\n",
      "870\n",
      "880\n",
      "890\n",
      "900\n",
      "910\n",
      "920\n",
      "930\n",
      "940\n",
      "950\n",
      "960\n",
      "970\n",
      "980\n",
      "990\n",
      "1000\n"
     ]
    }
   ],
   "source": [
    "for num in range(0, 1001, 10): #I am using a for range function for this problem, I put 0 first because thats my \n",
    "                               #starting number, 1001 is my new ending number so 1000 is included, and 10 as the number we're going up by\n",
    "    print(num)  #For the numbers that meet all of the expectations above, the number should print below"
   ]
  },
  {
   "cell_type": "markdown",
   "id": "e3498da6",
   "metadata": {},
   "source": [
    "As you can see, when I used 1001 as the ending number, 1000 was included causing my code to run smoothly starting at 0, going up by 10, and ending at 1000."
   ]
  },
  {
   "cell_type": "markdown",
   "id": "c99453e9",
   "metadata": {},
   "source": [
    "## Programming Excercises - Problems 1, 4, \n",
    "\n",
    "Problem 1"
   ]
  },
  {
   "cell_type": "markdown",
   "id": "892069bc",
   "metadata": {},
   "source": [
    "This problem asks me to write a program that keeps a running total of the number of bugs collected during five days of a bug collecter is collecting them, and when the loop is finished the program should display the total number of bugs collected."
   ]
  },
  {
   "cell_type": "code",
   "execution_count": 10,
   "id": "c102e314",
   "metadata": {},
   "outputs": [
    {
     "name": "stdout",
     "output_type": "stream",
     "text": [
      "Enter the amount of bugs collected on day 1\n",
      "5\n",
      "Enter the amount of bugs collected on day 2\n",
      "7\n",
      "Enter the amount of bugs collected on day 3\n",
      "4\n",
      "Enter the amount of bugs collected on day 4\n",
      "2\n",
      "Enter the amount of bugs collected on day 5\n",
      "6\n",
      "You collected a total of 24 bugs\n"
     ]
    }
   ],
   "source": [
    "total = 0 #I need to set the variable total equal to 0 in order for my problem to run later and calculate the total number of bugs collected\n",
    "for day in range(1, 6): #I am starting by using a for statement with the range starting at day 1 and ending at day 6\n",
    "                       #So that day 5 is included but not day 6\n",
    "    print('Enter the amount of bugs collected on day', day) #Here i am setting the variable bugs equal to the usering inputting how many were collected\n",
    "    bugs = int(input())\n",
    "    total += bugs # Setting the total += to bugs causes the program to add each amoung of bugs the user inputs as the total collected\n",
    "    \n",
    "print('You collected a total of', total, 'bugs') #I am printing a prompt for the program to enter the total of bugs after solving\n"
   ]
  },
  {
   "cell_type": "markdown",
   "id": "a27cd9a0",
   "metadata": {},
   "source": [
    "After all these steps, the code ran asking for the number of bugs collected on days 1-5 and enterting the total collected at the end."
   ]
  },
  {
   "cell_type": "markdown",
   "id": "1354dcd4",
   "metadata": {},
   "source": [
    "Problem 4\n",
    "\n",
    "This problem asks me to write a program that asks the user for the speed of a vehicle in mph and the number of hours it has traveled. It should then use a loop to display the distance the vehicle traveled in the number of hours inputted."
   ]
  },
  {
   "cell_type": "code",
   "execution_count": 13,
   "id": "84b54c0d",
   "metadata": {},
   "outputs": [
    {
     "ename": "SyntaxError",
     "evalue": "unexpected character after line continuation character (711512715.py, line 8)",
     "output_type": "error",
     "traceback": [
      "\u001b[0;36m  Cell \u001b[0;32mIn[13], line 8\u001b[0;36m\u001b[0m\n\u001b[0;31m    print(time\\tdistance)\u001b[0m\n\u001b[0m               ^\u001b[0m\n\u001b[0;31mSyntaxError\u001b[0m\u001b[0;31m:\u001b[0m unexpected character after line continuation character\n"
     ]
    }
   ],
   "source": [
    "print('This program displays a vehicles hours and distance traveled')\n",
    "speed = int(input(\"what is the speed of the vehicle in mph? \"))\n",
    "time = int(input('how many hours has it traveled'))\n",
    "print('hour\\tdistance traveled')\n",
    "print('-----------------------')\n",
    "for num in range(1, time + 1):\n",
    "    distance = speed * time\n",
    "    print(time\\tdistance)"
   ]
  },
  {
   "cell_type": "code",
   "execution_count": null,
   "id": "1eb9ffc8",
   "metadata": {},
   "outputs": [],
   "source": []
  }
 ],
 "metadata": {
  "kernelspec": {
   "display_name": "Python 3 (ipykernel)",
   "language": "python",
   "name": "python3"
  },
  "language_info": {
   "codemirror_mode": {
    "name": "ipython",
    "version": 3
   },
   "file_extension": ".py",
   "mimetype": "text/x-python",
   "name": "python",
   "nbconvert_exporter": "python",
   "pygments_lexer": "ipython3",
   "version": "3.10.9"
  }
 },
 "nbformat": 4,
 "nbformat_minor": 5
}
