{
 "cells": [
  {
   "cell_type": "markdown",
   "id": "b346c4f7",
   "metadata": {},
   "source": [
    "# Chapter 4 Excercises"
   ]
  },
  {
   "cell_type": "markdown",
   "id": "16533674",
   "metadata": {},
   "source": [
    "## Algorithm Workbench - Problems 1\n",
    "\n",
    "Problem 1"
   ]
  },
  {
   "cell_type": "markdown",
   "id": "4962dbcb",
   "metadata": {},
   "source": [
    "This problem asks me to write a while loop that asks the use for a number and the number should then be multiplied by 10 and assigned to the variable product. The loop should iterate as long as the product is less than 100."
   ]
  },
  {
   "cell_type": "code",
   "execution_count": 2,
   "id": "e5a4e783",
   "metadata": {},
   "outputs": [
    {
     "name": "stdout",
     "output_type": "stream",
     "text": [
      "Please enter a number: 5\n",
      "50.0\n",
      "Please enter a number: 9\n",
      "90.0\n",
      "Please enter a number: 12\n"
     ]
    }
   ],
   "source": [
    "number = float(input('Please enter a number: ')) #This step will allow the user to input a number\n",
    "product = number * 10 #I am first setting the variable product to the number inputted times 10 because the problem gave me this\n",
    "\n",
    "while product < 100: #Here I am beginning my while loop, making sure to specify that product has to be less than 100\n",
    "    print(product) #If product < 10, I want the product to be printed\n",
    "    number = float(input('Please enter a number: ')) #Inputting the number and product again here will continue the loop\n",
    "    product = number * 10\n"
   ]
  },
  {
   "cell_type": "markdown",
   "id": "67f1ffb1",
   "metadata": {},
   "source": [
    "In order to create the loop, I had to state what number and product were before and after I used while, after this I can continue to enter numbers that multiplied by 10 will be less than 100 until I use a number that is too large."
   ]
  },
  {
   "cell_type": "markdown",
   "id": "e8771401",
   "metadata": {},
   "source": [
    "Problem 3\n",
    "\n",
    "This problem asks me to write a for loop that displays the numbers 0 - 1000 going up by 10 each time."
   ]
  },
  {
   "cell_type": "code",
   "execution_count": 2,
   "id": "a2404ded",
   "metadata": {},
   "outputs": [
    {
     "name": "stdout",
     "output_type": "stream",
     "text": [
      "0\n",
      "10\n",
      "20\n",
      "30\n",
      "40\n",
      "50\n",
      "60\n",
      "70\n",
      "80\n",
      "90\n",
      "100\n",
      "110\n",
      "120\n",
      "130\n",
      "140\n",
      "150\n",
      "160\n",
      "170\n",
      "180\n",
      "190\n",
      "200\n",
      "210\n",
      "220\n",
      "230\n",
      "240\n",
      "250\n",
      "260\n",
      "270\n",
      "280\n",
      "290\n",
      "300\n",
      "310\n",
      "320\n",
      "330\n",
      "340\n",
      "350\n",
      "360\n",
      "370\n",
      "380\n",
      "390\n",
      "400\n",
      "410\n",
      "420\n",
      "430\n",
      "440\n",
      "450\n",
      "460\n",
      "470\n",
      "480\n",
      "490\n",
      "500\n",
      "510\n",
      "520\n",
      "530\n",
      "540\n",
      "550\n",
      "560\n",
      "570\n",
      "580\n",
      "590\n",
      "600\n",
      "610\n",
      "620\n",
      "630\n",
      "640\n",
      "650\n",
      "660\n",
      "670\n",
      "680\n",
      "690\n",
      "700\n",
      "710\n",
      "720\n",
      "730\n",
      "740\n",
      "750\n",
      "760\n",
      "770\n",
      "780\n",
      "790\n",
      "800\n",
      "810\n",
      "820\n",
      "830\n",
      "840\n",
      "850\n",
      "860\n",
      "870\n",
      "880\n",
      "890\n",
      "900\n",
      "910\n",
      "920\n",
      "930\n",
      "940\n",
      "950\n",
      "960\n",
      "970\n",
      "980\n",
      "990\n"
     ]
    }
   ],
   "source": [
    "for num in range(0, 1000, 10): #I am using a for range function for this problem, I put 0 first because thats my \n",
    "                               #starting number, 1000 my ending number, and 10 as the number we're going up by\n",
    "    print(num)  #For the numbers with "
   ]
  },
  {
   "cell_type": "markdown",
   "id": "7dd57d26",
   "metadata": {},
   "source": [
    "I see that the code stopped at 990 when it was supposed to go till 1000, to fix this I will put 1001 and the last number because 1000 will then be included where when I put 1000 as the end number, it wasn't included."
   ]
  },
  {
   "cell_type": "code",
   "execution_count": null,
   "id": "3d8bdb0f",
   "metadata": {},
   "outputs": [],
   "source": []
  }
 ],
 "metadata": {
  "kernelspec": {
   "display_name": "Python 3 (ipykernel)",
   "language": "python",
   "name": "python3"
  },
  "language_info": {
   "codemirror_mode": {
    "name": "ipython",
    "version": 3
   },
   "file_extension": ".py",
   "mimetype": "text/x-python",
   "name": "python",
   "nbconvert_exporter": "python",
   "pygments_lexer": "ipython3",
   "version": "3.10.9"
  }
 },
 "nbformat": 4,
 "nbformat_minor": 5
}
